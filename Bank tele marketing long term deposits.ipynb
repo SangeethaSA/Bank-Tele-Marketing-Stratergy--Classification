{
 "cells": [
  {
   "cell_type": "code",
   "execution_count": 1,
   "metadata": {},
   "outputs": [
    {
     "name": "stderr",
     "output_type": "stream",
     "text": [
      "UsageError: Line magic function `%` not found.\n"
     ]
    }
   ],
   "source": [
    "# to handle datasets\n",
    "import pandas as pd\n",
    "import numpy as np\n",
    "\n",
    "# for text / string processing\n",
    "import re\n",
    "\n",
    "# for plotting\n",
    "import matplotlib.pyplot as plt\n",
    "% matplotlib inline\n",
    "\n",
    "# to divide train and test set\n",
    "from sklearn.model_selection import train_test_split\n",
    "\n",
    "# feature scaling\n",
    "from sklearn.preprocessing import MinMaxScaler\n",
    "\n",
    "# for tree binarisation\n",
    "from sklearn.tree import DecisionTreeClassifier\n",
    "from sklearn.model_selection import cross_val_score\n",
    "\n",
    "\n",
    "# to build the models\n",
    "from sklearn.linear_model import LogisticRegression\n",
    "from sklearn.ensemble import AdaBoostClassifier\n",
    "from sklearn.ensemble import RandomForestClassifier\n",
    "import xgboost as xgb\n",
    "\n",
    "# to evaluate the models\n",
    "from sklearn.metrics import roc_auc_score\n",
    "from sklearn import metrics\n",
    "\n",
    "import warnings\n",
    "warnings.filterwarnings('ignore')"
   ]
  },
  {
   "cell_type": "code",
   "execution_count": 2,
   "metadata": {},
   "outputs": [
    {
     "data": {
      "text/html": [
       "<div>\n",
       "<style scoped>\n",
       "    .dataframe tbody tr th:only-of-type {\n",
       "        vertical-align: middle;\n",
       "    }\n",
       "\n",
       "    .dataframe tbody tr th {\n",
       "        vertical-align: top;\n",
       "    }\n",
       "\n",
       "    .dataframe thead th {\n",
       "        text-align: right;\n",
       "    }\n",
       "</style>\n",
       "<table border=\"1\" class=\"dataframe\">\n",
       "  <thead>\n",
       "    <tr style=\"text-align: right;\">\n",
       "      <th></th>\n",
       "      <th>age</th>\n",
       "      <th>job</th>\n",
       "      <th>marital_status</th>\n",
       "      <th>education</th>\n",
       "      <th>default</th>\n",
       "      <th>balance</th>\n",
       "      <th>housing</th>\n",
       "      <th>loan</th>\n",
       "      <th>contact_type</th>\n",
       "      <th>day</th>\n",
       "      <th>month</th>\n",
       "      <th>campaing_contacts</th>\n",
       "      <th>last_contact</th>\n",
       "      <th>previous_contacts</th>\n",
       "      <th>previous_conversion</th>\n",
       "      <th>conversion</th>\n",
       "    </tr>\n",
       "  </thead>\n",
       "  <tbody>\n",
       "    <tr>\n",
       "      <th>186</th>\n",
       "      <td>34</td>\n",
       "      <td>2.0</td>\n",
       "      <td>married</td>\n",
       "      <td>3.0</td>\n",
       "      <td>0</td>\n",
       "      <td>899.0</td>\n",
       "      <td>1</td>\n",
       "      <td>0</td>\n",
       "      <td>1.0</td>\n",
       "      <td>19</td>\n",
       "      <td>11</td>\n",
       "      <td>3</td>\n",
       "      <td>7.0</td>\n",
       "      <td>4</td>\n",
       "      <td>1.0</td>\n",
       "      <td>0</td>\n",
       "    </tr>\n",
       "    <tr>\n",
       "      <th>245</th>\n",
       "      <td>36</td>\n",
       "      <td>2.0</td>\n",
       "      <td>married</td>\n",
       "      <td>3.0</td>\n",
       "      <td>0</td>\n",
       "      <td>0.0</td>\n",
       "      <td>1</td>\n",
       "      <td>0</td>\n",
       "      <td>0.0</td>\n",
       "      <td>28</td>\n",
       "      <td>1</td>\n",
       "      <td>1</td>\n",
       "      <td>250.0</td>\n",
       "      <td>1</td>\n",
       "      <td>NaN</td>\n",
       "      <td>0</td>\n",
       "    </tr>\n",
       "    <tr>\n",
       "      <th>3023</th>\n",
       "      <td>55</td>\n",
       "      <td>1.0</td>\n",
       "      <td>married</td>\n",
       "      <td>2.0</td>\n",
       "      <td>1</td>\n",
       "      <td>-308.0</td>\n",
       "      <td>0</td>\n",
       "      <td>0</td>\n",
       "      <td>0.0</td>\n",
       "      <td>2</td>\n",
       "      <td>2</td>\n",
       "      <td>1</td>\n",
       "      <td>NaN</td>\n",
       "      <td>0</td>\n",
       "      <td>NaN</td>\n",
       "      <td>1</td>\n",
       "    </tr>\n",
       "    <tr>\n",
       "      <th>2971</th>\n",
       "      <td>32</td>\n",
       "      <td>2.0</td>\n",
       "      <td>single</td>\n",
       "      <td>3.0</td>\n",
       "      <td>0</td>\n",
       "      <td>1160.0</td>\n",
       "      <td>1</td>\n",
       "      <td>1</td>\n",
       "      <td>NaN</td>\n",
       "      <td>11</td>\n",
       "      <td>6</td>\n",
       "      <td>2</td>\n",
       "      <td>NaN</td>\n",
       "      <td>0</td>\n",
       "      <td>NaN</td>\n",
       "      <td>0</td>\n",
       "    </tr>\n",
       "    <tr>\n",
       "      <th>3397</th>\n",
       "      <td>38</td>\n",
       "      <td>2.0</td>\n",
       "      <td>single</td>\n",
       "      <td>3.0</td>\n",
       "      <td>0</td>\n",
       "      <td>0.0</td>\n",
       "      <td>0</td>\n",
       "      <td>0</td>\n",
       "      <td>0.0</td>\n",
       "      <td>24</td>\n",
       "      <td>7</td>\n",
       "      <td>1</td>\n",
       "      <td>NaN</td>\n",
       "      <td>0</td>\n",
       "      <td>NaN</td>\n",
       "      <td>0</td>\n",
       "    </tr>\n",
       "  </tbody>\n",
       "</table>\n",
       "</div>"
      ],
      "text/plain": [
       "      age  job marital_status  education  default  balance  housing  loan  \\\n",
       "186    34  2.0        married        3.0        0    899.0        1     0   \n",
       "245    36  2.0        married        3.0        0      0.0        1     0   \n",
       "3023   55  1.0        married        2.0        1   -308.0        0     0   \n",
       "2971   32  2.0         single        3.0        0   1160.0        1     1   \n",
       "3397   38  2.0         single        3.0        0      0.0        0     0   \n",
       "\n",
       "      contact_type  day  month  campaing_contacts  last_contact  \\\n",
       "186            1.0   19     11                  3           7.0   \n",
       "245            0.0   28      1                  1         250.0   \n",
       "3023           0.0    2      2                  1           NaN   \n",
       "2971           NaN   11      6                  2           NaN   \n",
       "3397           0.0   24      7                  1           NaN   \n",
       "\n",
       "      previous_contacts  previous_conversion  conversion  \n",
       "186                   4                  1.0           0  \n",
       "245                   1                  NaN           0  \n",
       "3023                  0                  NaN           1  \n",
       "2971                  0                  NaN           0  \n",
       "3397                  0                  NaN           0  "
      ]
     },
     "execution_count": 2,
     "metadata": {},
     "output_type": "execute_result"
    }
   ],
   "source": [
    "data=pd.read_csv('bank_marketing.csv', sep=';')\n",
    "data.sample(5)"
   ]
  },
  {
   "cell_type": "markdown",
   "metadata": {},
   "source": [
    "# Data Understanding"
   ]
  },
  {
   "cell_type": "markdown",
   "metadata": {},
   "source": [
    "### Bank wants to increase the conversion rate of telemarketing campaigns in banks.\n",
    "* The bank telemarketing database used here is related with direct marketing campaigns of a bank institution.\n",
    "* Telemarketing is an interactive technique of direct marketing via the phone which is widely used by banks to sell long-term deposits\n",
    "* The aim of this study is to predict whether a client is going to subscribe a long-term deposit or not."
   ]
  },
  {
   "cell_type": "code",
   "execution_count": 3,
   "metadata": {},
   "outputs": [
    {
     "data": {
      "text/html": [
       "<div>\n",
       "<style scoped>\n",
       "    .dataframe tbody tr th:only-of-type {\n",
       "        vertical-align: middle;\n",
       "    }\n",
       "\n",
       "    .dataframe tbody tr th {\n",
       "        vertical-align: top;\n",
       "    }\n",
       "\n",
       "    .dataframe thead th {\n",
       "        text-align: right;\n",
       "    }\n",
       "</style>\n",
       "<table border=\"1\" class=\"dataframe\">\n",
       "  <thead>\n",
       "    <tr style=\"text-align: right;\">\n",
       "      <th></th>\n",
       "      <th>age</th>\n",
       "      <th>job</th>\n",
       "      <th>education</th>\n",
       "      <th>default</th>\n",
       "      <th>balance</th>\n",
       "      <th>housing</th>\n",
       "      <th>loan</th>\n",
       "      <th>contact_type</th>\n",
       "      <th>day</th>\n",
       "      <th>month</th>\n",
       "      <th>campaing_contacts</th>\n",
       "      <th>last_contact</th>\n",
       "      <th>previous_contacts</th>\n",
       "      <th>previous_conversion</th>\n",
       "      <th>conversion</th>\n",
       "    </tr>\n",
       "  </thead>\n",
       "  <tbody>\n",
       "    <tr>\n",
       "      <th>count</th>\n",
       "      <td>4120.000000</td>\n",
       "      <td>4085.000000</td>\n",
       "      <td>3949.000000</td>\n",
       "      <td>4120.000000</td>\n",
       "      <td>4115.000000</td>\n",
       "      <td>4120.000000</td>\n",
       "      <td>4120.000000</td>\n",
       "      <td>2921.000000</td>\n",
       "      <td>4120.000000</td>\n",
       "      <td>4120.000000</td>\n",
       "      <td>4120.000000</td>\n",
       "      <td>739.000000</td>\n",
       "      <td>4120.000000</td>\n",
       "      <td>561.000000</td>\n",
       "      <td>4120.000000</td>\n",
       "    </tr>\n",
       "    <tr>\n",
       "      <th>mean</th>\n",
       "      <td>41.224029</td>\n",
       "      <td>1.392901</td>\n",
       "      <td>2.154469</td>\n",
       "      <td>0.017476</td>\n",
       "      <td>1439.810693</td>\n",
       "      <td>0.566019</td>\n",
       "      <td>0.152913</td>\n",
       "      <td>0.095173</td>\n",
       "      <td>15.962621</td>\n",
       "      <td>6.176214</td>\n",
       "      <td>2.806311</td>\n",
       "      <td>223.669824</td>\n",
       "      <td>0.541262</td>\n",
       "      <td>0.204991</td>\n",
       "      <td>0.114563</td>\n",
       "    </tr>\n",
       "    <tr>\n",
       "      <th>std</th>\n",
       "      <td>10.550958</td>\n",
       "      <td>0.661372</td>\n",
       "      <td>0.667257</td>\n",
       "      <td>0.131051</td>\n",
       "      <td>3069.116870</td>\n",
       "      <td>0.495682</td>\n",
       "      <td>0.359947</td>\n",
       "      <td>0.293504</td>\n",
       "      <td>8.258247</td>\n",
       "      <td>2.388879</td>\n",
       "      <td>3.139139</td>\n",
       "      <td>114.778020</td>\n",
       "      <td>1.709618</td>\n",
       "      <td>0.404055</td>\n",
       "      <td>0.318533</td>\n",
       "    </tr>\n",
       "    <tr>\n",
       "      <th>min</th>\n",
       "      <td>19.000000</td>\n",
       "      <td>0.000000</td>\n",
       "      <td>1.000000</td>\n",
       "      <td>0.000000</td>\n",
       "      <td>-3313.000000</td>\n",
       "      <td>0.000000</td>\n",
       "      <td>0.000000</td>\n",
       "      <td>0.000000</td>\n",
       "      <td>1.000000</td>\n",
       "      <td>1.000000</td>\n",
       "      <td>1.000000</td>\n",
       "      <td>1.000000</td>\n",
       "      <td>0.000000</td>\n",
       "      <td>0.000000</td>\n",
       "      <td>0.000000</td>\n",
       "    </tr>\n",
       "    <tr>\n",
       "      <th>25%</th>\n",
       "      <td>33.000000</td>\n",
       "      <td>1.000000</td>\n",
       "      <td>2.000000</td>\n",
       "      <td>0.000000</td>\n",
       "      <td>67.000000</td>\n",
       "      <td>0.000000</td>\n",
       "      <td>0.000000</td>\n",
       "      <td>0.000000</td>\n",
       "      <td>9.000000</td>\n",
       "      <td>5.000000</td>\n",
       "      <td>1.000000</td>\n",
       "      <td>137.500000</td>\n",
       "      <td>0.000000</td>\n",
       "      <td>0.000000</td>\n",
       "      <td>0.000000</td>\n",
       "    </tr>\n",
       "    <tr>\n",
       "      <th>50%</th>\n",
       "      <td>39.000000</td>\n",
       "      <td>1.000000</td>\n",
       "      <td>2.000000</td>\n",
       "      <td>0.000000</td>\n",
       "      <td>442.000000</td>\n",
       "      <td>1.000000</td>\n",
       "      <td>0.000000</td>\n",
       "      <td>0.000000</td>\n",
       "      <td>16.000000</td>\n",
       "      <td>6.000000</td>\n",
       "      <td>2.000000</td>\n",
       "      <td>189.000000</td>\n",
       "      <td>0.000000</td>\n",
       "      <td>0.000000</td>\n",
       "      <td>0.000000</td>\n",
       "    </tr>\n",
       "    <tr>\n",
       "      <th>75%</th>\n",
       "      <td>49.000000</td>\n",
       "      <td>2.000000</td>\n",
       "      <td>3.000000</td>\n",
       "      <td>0.000000</td>\n",
       "      <td>1492.500000</td>\n",
       "      <td>1.000000</td>\n",
       "      <td>0.000000</td>\n",
       "      <td>0.000000</td>\n",
       "      <td>21.000000</td>\n",
       "      <td>8.000000</td>\n",
       "      <td>3.000000</td>\n",
       "      <td>326.500000</td>\n",
       "      <td>0.000000</td>\n",
       "      <td>0.000000</td>\n",
       "      <td>0.000000</td>\n",
       "    </tr>\n",
       "    <tr>\n",
       "      <th>max</th>\n",
       "      <td>87.000000</td>\n",
       "      <td>2.000000</td>\n",
       "      <td>3.000000</td>\n",
       "      <td>1.000000</td>\n",
       "      <td>71188.000000</td>\n",
       "      <td>1.000000</td>\n",
       "      <td>1.000000</td>\n",
       "      <td>1.000000</td>\n",
       "      <td>31.000000</td>\n",
       "      <td>12.000000</td>\n",
       "      <td>50.000000</td>\n",
       "      <td>871.000000</td>\n",
       "      <td>25.000000</td>\n",
       "      <td>1.000000</td>\n",
       "      <td>1.000000</td>\n",
       "    </tr>\n",
       "  </tbody>\n",
       "</table>\n",
       "</div>"
      ],
      "text/plain": [
       "               age          job    education      default       balance  \\\n",
       "count  4120.000000  4085.000000  3949.000000  4120.000000   4115.000000   \n",
       "mean     41.224029     1.392901     2.154469     0.017476   1439.810693   \n",
       "std      10.550958     0.661372     0.667257     0.131051   3069.116870   \n",
       "min      19.000000     0.000000     1.000000     0.000000  -3313.000000   \n",
       "25%      33.000000     1.000000     2.000000     0.000000     67.000000   \n",
       "50%      39.000000     1.000000     2.000000     0.000000    442.000000   \n",
       "75%      49.000000     2.000000     3.000000     0.000000   1492.500000   \n",
       "max      87.000000     2.000000     3.000000     1.000000  71188.000000   \n",
       "\n",
       "           housing         loan  contact_type          day        month  \\\n",
       "count  4120.000000  4120.000000   2921.000000  4120.000000  4120.000000   \n",
       "mean      0.566019     0.152913      0.095173    15.962621     6.176214   \n",
       "std       0.495682     0.359947      0.293504     8.258247     2.388879   \n",
       "min       0.000000     0.000000      0.000000     1.000000     1.000000   \n",
       "25%       0.000000     0.000000      0.000000     9.000000     5.000000   \n",
       "50%       1.000000     0.000000      0.000000    16.000000     6.000000   \n",
       "75%       1.000000     0.000000      0.000000    21.000000     8.000000   \n",
       "max       1.000000     1.000000      1.000000    31.000000    12.000000   \n",
       "\n",
       "       campaing_contacts  last_contact  previous_contacts  \\\n",
       "count        4120.000000    739.000000        4120.000000   \n",
       "mean            2.806311    223.669824           0.541262   \n",
       "std             3.139139    114.778020           1.709618   \n",
       "min             1.000000      1.000000           0.000000   \n",
       "25%             1.000000    137.500000           0.000000   \n",
       "50%             2.000000    189.000000           0.000000   \n",
       "75%             3.000000    326.500000           0.000000   \n",
       "max            50.000000    871.000000          25.000000   \n",
       "\n",
       "       previous_conversion   conversion  \n",
       "count           561.000000  4120.000000  \n",
       "mean              0.204991     0.114563  \n",
       "std               0.404055     0.318533  \n",
       "min               0.000000     0.000000  \n",
       "25%               0.000000     0.000000  \n",
       "50%               0.000000     0.000000  \n",
       "75%               0.000000     0.000000  \n",
       "max               1.000000     1.000000  "
      ]
     },
     "execution_count": 3,
     "metadata": {},
     "output_type": "execute_result"
    }
   ],
   "source": [
    "data.describe()"
   ]
  },
  {
   "cell_type": "code",
   "execution_count": 4,
   "metadata": {},
   "outputs": [
    {
     "name": "stdout",
     "output_type": "stream",
     "text": [
      "<class 'pandas.core.frame.DataFrame'>\n",
      "RangeIndex: 4120 entries, 0 to 4119\n",
      "Data columns (total 16 columns):\n",
      "age                    4120 non-null int64\n",
      "job                    4085 non-null float64\n",
      "marital_status         4120 non-null object\n",
      "education              3949 non-null float64\n",
      "default                4120 non-null int64\n",
      "balance                4115 non-null float64\n",
      "housing                4120 non-null int64\n",
      "loan                   4120 non-null int64\n",
      "contact_type           2921 non-null float64\n",
      "day                    4120 non-null int64\n",
      "month                  4120 non-null int64\n",
      "campaing_contacts      4120 non-null int64\n",
      "last_contact           739 non-null float64\n",
      "previous_contacts      4120 non-null int64\n",
      "previous_conversion    561 non-null float64\n",
      "conversion             4120 non-null int64\n",
      "dtypes: float64(6), int64(9), object(1)\n",
      "memory usage: 515.1+ KB\n"
     ]
    }
   ],
   "source": [
    "data.info()"
   ]
  },
  {
   "cell_type": "markdown",
   "metadata": {},
   "source": [
    "The variables are:\n",
    "* age: Age.\n",
    "* job: job\n",
    "* married: Marital status.\n",
    "* single: Marital status.\n",
    "* divorced: Marital status.\n",
    "* education: Type of education (primary, secondary, tertiary).\n",
    "* default: Takes value 1 if the client has a credit in default and 0 in other case.\n",
    "* balance: Account balance.\n",
    "* housing: Takes value 1 if the client has a housing loan and 0 in other case.\n",
    "* loan: Takes value 1 if the client has a personal loan and 0 in other case.\n",
    "* contact_type: Contact communication type (cellular, telephone).\n",
    "* day: Last contact day of the week.\n",
    "* month: Last contact month of the year.\n",
    "* campaign: Number of contacts performed during this campaign and for this client.\n",
    "* last_contact: Number of days that passed by after the client was last contacted from a previous campaign.\n",
    "* previous_conversation: Number of contacts performed before this campaign and for this client.\n",
    "* previous_conversation: Outcome of the previous marketing campaign.\n",
    "* conversion: Takes value 1 if the client has subscribed a term deposit and 0 in other case, used as target."
   ]
  },
  {
   "cell_type": "code",
   "execution_count": 5,
   "metadata": {},
   "outputs": [
    {
     "data": {
      "text/html": [
       "<div>\n",
       "<style scoped>\n",
       "    .dataframe tbody tr th:only-of-type {\n",
       "        vertical-align: middle;\n",
       "    }\n",
       "\n",
       "    .dataframe tbody tr th {\n",
       "        vertical-align: top;\n",
       "    }\n",
       "\n",
       "    .dataframe thead th {\n",
       "        text-align: right;\n",
       "    }\n",
       "</style>\n",
       "<table border=\"1\" class=\"dataframe\">\n",
       "  <thead>\n",
       "    <tr style=\"text-align: right;\">\n",
       "      <th></th>\n",
       "      <th>age</th>\n",
       "      <th>job</th>\n",
       "      <th>education</th>\n",
       "      <th>default</th>\n",
       "      <th>balance</th>\n",
       "      <th>housing</th>\n",
       "      <th>loan</th>\n",
       "      <th>contact_type</th>\n",
       "      <th>day</th>\n",
       "      <th>month</th>\n",
       "      <th>campaing_contacts</th>\n",
       "      <th>last_contact</th>\n",
       "      <th>previous_contacts</th>\n",
       "      <th>previous_conversion</th>\n",
       "      <th>conversion</th>\n",
       "    </tr>\n",
       "  </thead>\n",
       "  <tbody>\n",
       "    <tr>\n",
       "      <th>age</th>\n",
       "      <td>100.000000</td>\n",
       "      <td>-18.236168</td>\n",
       "      <td>-18.961716</td>\n",
       "      <td>-1.810755</td>\n",
       "      <td>8.151596</td>\n",
       "      <td>-19.085623</td>\n",
       "      <td>-0.767997</td>\n",
       "      <td>20.490362</td>\n",
       "      <td>-1.262613</td>\n",
       "      <td>6.824704</td>\n",
       "      <td>-0.690654</td>\n",
       "      <td>-8.868760</td>\n",
       "      <td>-0.751807</td>\n",
       "      <td>10.182685</td>\n",
       "      <td>3.230880</td>\n",
       "    </tr>\n",
       "    <tr>\n",
       "      <th>job</th>\n",
       "      <td>-18.236168</td>\n",
       "      <td>100.000000</td>\n",
       "      <td>34.438472</td>\n",
       "      <td>0.200060</td>\n",
       "      <td>-0.157667</td>\n",
       "      <td>9.134992</td>\n",
       "      <td>3.575933</td>\n",
       "      <td>-7.692313</td>\n",
       "      <td>1.049546</td>\n",
       "      <td>6.450900</td>\n",
       "      <td>3.863862</td>\n",
       "      <td>6.608414</td>\n",
       "      <td>-0.637508</td>\n",
       "      <td>-6.390807</td>\n",
       "      <td>-2.732119</td>\n",
       "    </tr>\n",
       "    <tr>\n",
       "      <th>education</th>\n",
       "      <td>-18.961716</td>\n",
       "      <td>34.438472</td>\n",
       "      <td>100.000000</td>\n",
       "      <td>-0.770089</td>\n",
       "      <td>5.664800</td>\n",
       "      <td>-7.055855</td>\n",
       "      <td>-1.913512</td>\n",
       "      <td>-11.834879</td>\n",
       "      <td>1.065955</td>\n",
       "      <td>9.370926</td>\n",
       "      <td>0.485267</td>\n",
       "      <td>-12.357582</td>\n",
       "      <td>2.714272</td>\n",
       "      <td>2.895583</td>\n",
       "      <td>5.173534</td>\n",
       "    </tr>\n",
       "    <tr>\n",
       "      <th>default</th>\n",
       "      <td>-1.810755</td>\n",
       "      <td>0.200060</td>\n",
       "      <td>-0.770089</td>\n",
       "      <td>100.000000</td>\n",
       "      <td>-7.078253</td>\n",
       "      <td>0.092164</td>\n",
       "      <td>6.685696</td>\n",
       "      <td>-2.293055</td>\n",
       "      <td>-1.352878</td>\n",
       "      <td>1.032371</td>\n",
       "      <td>-1.537574</td>\n",
       "      <td>4.893202</td>\n",
       "      <td>-2.814192</td>\n",
       "      <td>-2.145791</td>\n",
       "      <td>0.437035</td>\n",
       "    </tr>\n",
       "    <tr>\n",
       "      <th>balance</th>\n",
       "      <td>8.151596</td>\n",
       "      <td>-0.157667</td>\n",
       "      <td>5.664800</td>\n",
       "      <td>-7.078253</td>\n",
       "      <td>100.000000</td>\n",
       "      <td>-4.557621</td>\n",
       "      <td>-7.510929</td>\n",
       "      <td>3.607731</td>\n",
       "      <td>-0.774948</td>\n",
       "      <td>10.364984</td>\n",
       "      <td>-1.116306</td>\n",
       "      <td>-7.779724</td>\n",
       "      <td>2.264879</td>\n",
       "      <td>2.123838</td>\n",
       "      <td>1.386927</td>\n",
       "    </tr>\n",
       "    <tr>\n",
       "      <th>housing</th>\n",
       "      <td>-19.085623</td>\n",
       "      <td>9.134992</td>\n",
       "      <td>-7.055855</td>\n",
       "      <td>0.092164</td>\n",
       "      <td>-4.557621</td>\n",
       "      <td>100.000000</td>\n",
       "      <td>1.416197</td>\n",
       "      <td>-4.311049</td>\n",
       "      <td>-4.150603</td>\n",
       "      <td>-16.892773</td>\n",
       "      <td>-0.457411</td>\n",
       "      <td>30.745476</td>\n",
       "      <td>4.949836</td>\n",
       "      <td>-32.326785</td>\n",
       "      <td>-9.711826</td>\n",
       "    </tr>\n",
       "    <tr>\n",
       "      <th>loan</th>\n",
       "      <td>-0.767997</td>\n",
       "      <td>3.575933</td>\n",
       "      <td>-1.913512</td>\n",
       "      <td>6.685696</td>\n",
       "      <td>-7.510929</td>\n",
       "      <td>1.416197</td>\n",
       "      <td>100.000000</td>\n",
       "      <td>-0.267512</td>\n",
       "      <td>-0.118030</td>\n",
       "      <td>3.359460</td>\n",
       "      <td>0.859969</td>\n",
       "      <td>-0.477199</td>\n",
       "      <td>-2.327485</td>\n",
       "      <td>-12.294020</td>\n",
       "      <td>-6.812886</td>\n",
       "    </tr>\n",
       "    <tr>\n",
       "      <th>contact_type</th>\n",
       "      <td>20.490362</td>\n",
       "      <td>-7.692313</td>\n",
       "      <td>-11.834879</td>\n",
       "      <td>-2.293055</td>\n",
       "      <td>3.607731</td>\n",
       "      <td>-4.311049</td>\n",
       "      <td>-0.267512</td>\n",
       "      <td>100.000000</td>\n",
       "      <td>5.239042</td>\n",
       "      <td>-1.784373</td>\n",
       "      <td>3.346454</td>\n",
       "      <td>-7.644228</td>\n",
       "      <td>-1.136351</td>\n",
       "      <td>4.179447</td>\n",
       "      <td>0.040791</td>\n",
       "    </tr>\n",
       "    <tr>\n",
       "      <th>day</th>\n",
       "      <td>-1.262613</td>\n",
       "      <td>1.049546</td>\n",
       "      <td>1.065955</td>\n",
       "      <td>-1.352878</td>\n",
       "      <td>-0.774948</td>\n",
       "      <td>-4.150603</td>\n",
       "      <td>-0.118030</td>\n",
       "      <td>5.239042</td>\n",
       "      <td>100.000000</td>\n",
       "      <td>8.548099</td>\n",
       "      <td>16.379618</td>\n",
       "      <td>-14.627385</td>\n",
       "      <td>-5.768567</td>\n",
       "      <td>0.224263</td>\n",
       "      <td>-0.584740</td>\n",
       "    </tr>\n",
       "    <tr>\n",
       "      <th>month</th>\n",
       "      <td>6.824704</td>\n",
       "      <td>6.450900</td>\n",
       "      <td>9.370926</td>\n",
       "      <td>1.032371</td>\n",
       "      <td>10.364984</td>\n",
       "      <td>-16.892773</td>\n",
       "      <td>3.359460</td>\n",
       "      <td>-1.784373</td>\n",
       "      <td>8.548099</td>\n",
       "      <td>100.000000</td>\n",
       "      <td>6.156401</td>\n",
       "      <td>-17.749440</td>\n",
       "      <td>-4.279778</td>\n",
       "      <td>8.931031</td>\n",
       "      <td>1.844982</td>\n",
       "    </tr>\n",
       "    <tr>\n",
       "      <th>campaing_contacts</th>\n",
       "      <td>-0.690654</td>\n",
       "      <td>3.863862</td>\n",
       "      <td>0.485267</td>\n",
       "      <td>-1.537574</td>\n",
       "      <td>-1.116306</td>\n",
       "      <td>-0.457411</td>\n",
       "      <td>0.859969</td>\n",
       "      <td>3.346454</td>\n",
       "      <td>16.379618</td>\n",
       "      <td>6.156401</td>\n",
       "      <td>100.000000</td>\n",
       "      <td>9.871589</td>\n",
       "      <td>-6.727145</td>\n",
       "      <td>-5.024654</td>\n",
       "      <td>-6.035420</td>\n",
       "    </tr>\n",
       "    <tr>\n",
       "      <th>last_contact</th>\n",
       "      <td>-8.868760</td>\n",
       "      <td>6.608414</td>\n",
       "      <td>-12.357582</td>\n",
       "      <td>4.893202</td>\n",
       "      <td>-7.779724</td>\n",
       "      <td>30.745476</td>\n",
       "      <td>-0.477199</td>\n",
       "      <td>-7.644228</td>\n",
       "      <td>-14.627385</td>\n",
       "      <td>-17.749440</td>\n",
       "      <td>9.871589</td>\n",
       "      <td>100.000000</td>\n",
       "      <td>-6.054036</td>\n",
       "      <td>-27.421548</td>\n",
       "      <td>-10.427562</td>\n",
       "    </tr>\n",
       "    <tr>\n",
       "      <th>previous_contacts</th>\n",
       "      <td>-0.751807</td>\n",
       "      <td>-0.637508</td>\n",
       "      <td>2.714272</td>\n",
       "      <td>-2.814192</td>\n",
       "      <td>2.264879</td>\n",
       "      <td>4.949836</td>\n",
       "      <td>-2.327485</td>\n",
       "      <td>-1.136351</td>\n",
       "      <td>-5.768567</td>\n",
       "      <td>-4.279778</td>\n",
       "      <td>-6.727145</td>\n",
       "      <td>-6.054036</td>\n",
       "      <td>100.000000</td>\n",
       "      <td>2.787584</td>\n",
       "      <td>10.945855</td>\n",
       "    </tr>\n",
       "    <tr>\n",
       "      <th>previous_conversion</th>\n",
       "      <td>10.182685</td>\n",
       "      <td>-6.390807</td>\n",
       "      <td>2.895583</td>\n",
       "      <td>-2.145791</td>\n",
       "      <td>2.123838</td>\n",
       "      <td>-32.326785</td>\n",
       "      <td>-12.294020</td>\n",
       "      <td>4.179447</td>\n",
       "      <td>0.224263</td>\n",
       "      <td>8.931031</td>\n",
       "      <td>-5.024654</td>\n",
       "      <td>-27.421548</td>\n",
       "      <td>2.787584</td>\n",
       "      <td>100.000000</td>\n",
       "      <td>50.250265</td>\n",
       "    </tr>\n",
       "    <tr>\n",
       "      <th>conversion</th>\n",
       "      <td>3.230880</td>\n",
       "      <td>-2.732119</td>\n",
       "      <td>5.173534</td>\n",
       "      <td>0.437035</td>\n",
       "      <td>1.386927</td>\n",
       "      <td>-9.711826</td>\n",
       "      <td>-6.812886</td>\n",
       "      <td>0.040791</td>\n",
       "      <td>-0.584740</td>\n",
       "      <td>1.844982</td>\n",
       "      <td>-6.035420</td>\n",
       "      <td>-10.427562</td>\n",
       "      <td>10.945855</td>\n",
       "      <td>50.250265</td>\n",
       "      <td>100.000000</td>\n",
       "    </tr>\n",
       "  </tbody>\n",
       "</table>\n",
       "</div>"
      ],
      "text/plain": [
       "                            age         job   education     default  \\\n",
       "age                  100.000000  -18.236168  -18.961716   -1.810755   \n",
       "job                  -18.236168  100.000000   34.438472    0.200060   \n",
       "education            -18.961716   34.438472  100.000000   -0.770089   \n",
       "default               -1.810755    0.200060   -0.770089  100.000000   \n",
       "balance                8.151596   -0.157667    5.664800   -7.078253   \n",
       "housing              -19.085623    9.134992   -7.055855    0.092164   \n",
       "loan                  -0.767997    3.575933   -1.913512    6.685696   \n",
       "contact_type          20.490362   -7.692313  -11.834879   -2.293055   \n",
       "day                   -1.262613    1.049546    1.065955   -1.352878   \n",
       "month                  6.824704    6.450900    9.370926    1.032371   \n",
       "campaing_contacts     -0.690654    3.863862    0.485267   -1.537574   \n",
       "last_contact          -8.868760    6.608414  -12.357582    4.893202   \n",
       "previous_contacts     -0.751807   -0.637508    2.714272   -2.814192   \n",
       "previous_conversion   10.182685   -6.390807    2.895583   -2.145791   \n",
       "conversion             3.230880   -2.732119    5.173534    0.437035   \n",
       "\n",
       "                        balance     housing        loan  contact_type  \\\n",
       "age                    8.151596  -19.085623   -0.767997     20.490362   \n",
       "job                   -0.157667    9.134992    3.575933     -7.692313   \n",
       "education              5.664800   -7.055855   -1.913512    -11.834879   \n",
       "default               -7.078253    0.092164    6.685696     -2.293055   \n",
       "balance              100.000000   -4.557621   -7.510929      3.607731   \n",
       "housing               -4.557621  100.000000    1.416197     -4.311049   \n",
       "loan                  -7.510929    1.416197  100.000000     -0.267512   \n",
       "contact_type           3.607731   -4.311049   -0.267512    100.000000   \n",
       "day                   -0.774948   -4.150603   -0.118030      5.239042   \n",
       "month                 10.364984  -16.892773    3.359460     -1.784373   \n",
       "campaing_contacts     -1.116306   -0.457411    0.859969      3.346454   \n",
       "last_contact          -7.779724   30.745476   -0.477199     -7.644228   \n",
       "previous_contacts      2.264879    4.949836   -2.327485     -1.136351   \n",
       "previous_conversion    2.123838  -32.326785  -12.294020      4.179447   \n",
       "conversion             1.386927   -9.711826   -6.812886      0.040791   \n",
       "\n",
       "                            day       month  campaing_contacts  last_contact  \\\n",
       "age                   -1.262613    6.824704          -0.690654     -8.868760   \n",
       "job                    1.049546    6.450900           3.863862      6.608414   \n",
       "education              1.065955    9.370926           0.485267    -12.357582   \n",
       "default               -1.352878    1.032371          -1.537574      4.893202   \n",
       "balance               -0.774948   10.364984          -1.116306     -7.779724   \n",
       "housing               -4.150603  -16.892773          -0.457411     30.745476   \n",
       "loan                  -0.118030    3.359460           0.859969     -0.477199   \n",
       "contact_type           5.239042   -1.784373           3.346454     -7.644228   \n",
       "day                  100.000000    8.548099          16.379618    -14.627385   \n",
       "month                  8.548099  100.000000           6.156401    -17.749440   \n",
       "campaing_contacts     16.379618    6.156401         100.000000      9.871589   \n",
       "last_contact         -14.627385  -17.749440           9.871589    100.000000   \n",
       "previous_contacts     -5.768567   -4.279778          -6.727145     -6.054036   \n",
       "previous_conversion    0.224263    8.931031          -5.024654    -27.421548   \n",
       "conversion            -0.584740    1.844982          -6.035420    -10.427562   \n",
       "\n",
       "                     previous_contacts  previous_conversion  conversion  \n",
       "age                          -0.751807            10.182685    3.230880  \n",
       "job                          -0.637508            -6.390807   -2.732119  \n",
       "education                     2.714272             2.895583    5.173534  \n",
       "default                      -2.814192            -2.145791    0.437035  \n",
       "balance                       2.264879             2.123838    1.386927  \n",
       "housing                       4.949836           -32.326785   -9.711826  \n",
       "loan                         -2.327485           -12.294020   -6.812886  \n",
       "contact_type                 -1.136351             4.179447    0.040791  \n",
       "day                          -5.768567             0.224263   -0.584740  \n",
       "month                        -4.279778             8.931031    1.844982  \n",
       "campaing_contacts            -6.727145            -5.024654   -6.035420  \n",
       "last_contact                 -6.054036           -27.421548  -10.427562  \n",
       "previous_contacts           100.000000             2.787584   10.945855  \n",
       "previous_conversion           2.787584           100.000000   50.250265  \n",
       "conversion                   10.945855            50.250265  100.000000  "
      ]
     },
     "execution_count": 5,
     "metadata": {},
     "output_type": "execute_result"
    }
   ],
   "source": [
    "data.corr()*100"
   ]
  },
  {
   "cell_type": "markdown",
   "metadata": {},
   "source": [
    "### Handling missing values"
   ]
  },
  {
   "cell_type": "code",
   "execution_count": 6,
   "metadata": {},
   "outputs": [
    {
     "data": {
      "text/plain": [
       "age                     0.000000\n",
       "job                     0.849515\n",
       "marital_status          0.000000\n",
       "education               4.150485\n",
       "default                 0.000000\n",
       "balance                 0.121359\n",
       "housing                 0.000000\n",
       "loan                    0.000000\n",
       "contact_type           29.101942\n",
       "day                     0.000000\n",
       "month                   0.000000\n",
       "campaing_contacts       0.000000\n",
       "last_contact           82.063107\n",
       "previous_contacts       0.000000\n",
       "previous_conversion    86.383495\n",
       "conversion              0.000000\n",
       "dtype: float64"
      ]
     },
     "execution_count": 6,
     "metadata": {},
     "output_type": "execute_result"
    }
   ],
   "source": [
    "data.isnull().mean() * 100  # finding the total percentage of missing values in columns. >80% not worth filling up"
   ]
  },
  {
   "cell_type": "code",
   "execution_count": 7,
   "metadata": {},
   "outputs": [],
   "source": [
    "data.drop(data[['last_contact','previous_conversion']], axis =1, inplace=True) #>80% missing values not worth filling up\n"
   ]
  },
  {
   "cell_type": "code",
   "execution_count": 8,
   "metadata": {},
   "outputs": [
    {
     "data": {
      "text/plain": [
       "age                  0\n",
       "job                  0\n",
       "marital_status       0\n",
       "education            0\n",
       "default              0\n",
       "balance              0\n",
       "housing              0\n",
       "loan                 0\n",
       "contact_type         0\n",
       "day                  0\n",
       "month                0\n",
       "campaing_contacts    0\n",
       "previous_contacts    0\n",
       "conversion           0\n",
       "dtype: int64"
      ]
     },
     "execution_count": 8,
     "metadata": {},
     "output_type": "execute_result"
    }
   ],
   "source": [
    "data['job'].fillna(data['job'].mode()[0], inplace=True) # descrete category filled with mode\n",
    "data['education'].fillna(data['education'].mode()[0], inplace=True) # descrete variable filled with mode\n",
    "data['balance'].fillna(data['balance'].mean(), inplace=True) # continous numeric variable filled with mean\n",
    "data['contact_type'].fillna(data['contact_type'].mode()[0], inplace=True) # descrete category filled with mode\n",
    "data.isnull().sum()"
   ]
  },
  {
   "cell_type": "markdown",
   "metadata": {},
   "source": [
    "* “conversion” has a +10 correlation with “previous contacts”, +5% with education, +3% with age, 2% wtih contact_type and marital status.\n",
    "* \"conversion\" has -9% correlation with housing, -6% with loan and -6% with campaing_contacts, -2% with job"
   ]
  },
  {
   "cell_type": "markdown",
   "metadata": {},
   "source": [
    "###  Data Types"
   ]
  },
  {
   "cell_type": "code",
   "execution_count": 9,
   "metadata": {},
   "outputs": [
    {
     "name": "stdout",
     "output_type": "stream",
     "text": [
      "There are 1 categorical variables\n",
      "['married' 'single' 'divorced']\n"
     ]
    },
    {
     "data": {
      "text/plain": [
       "married     2540\n",
       "single      1100\n",
       "divorced     480\n",
       "Name: marital_status, dtype: int64"
      ]
     },
     "execution_count": 9,
     "metadata": {},
     "output_type": "execute_result"
    }
   ],
   "source": [
    "# find categorical variables\n",
    "categorical = [var for var in data.columns if data[var].dtype=='O']\n",
    "print('There are {} categorical variables'.format(len(categorical)))   # marital status\n",
    "print(data['marital_status'].unique())\n",
    "marital= data['marital_status'].value_counts()\n",
    "marital"
   ]
  },
  {
   "cell_type": "code",
   "execution_count": 10,
   "metadata": {},
   "outputs": [
    {
     "name": "stdout",
     "output_type": "stream",
     "text": [
      "There are 13 numeric variables\n"
     ]
    }
   ],
   "source": [
    "numeric = [num for num in data.columns if data[num].dtype!='O']\n",
    "print('There are {} numeric variables'.format(len(numeric)))"
   ]
  },
  {
   "cell_type": "code",
   "execution_count": 11,
   "metadata": {},
   "outputs": [
    {
     "name": "stdout",
     "output_type": "stream",
     "text": [
      "job  values:  [0. 2. 1.]\n",
      "education  values:  [1. 2. 3.]\n",
      "default  values:  [0 1]\n",
      "housing  values:  [0 1]\n",
      "loan  values:  [0 1]\n",
      "contact_type  values:  [0. 1.]\n",
      "day  values:  [19 11 16  3  5 23 14  6 17 20 13 30 29 27  7 18 12 21 26 22  2  4 15  8\n",
      " 28  9  1 10 31 25 24]\n",
      "month  values:  [10  5  4  6  2  8  1  7 11  9  3 12]\n",
      "campaing_contacts  values:  [ 1  4  2  5  3  6 18 10  9  7 12 14 13 24 11  8 29 32 16 22 25 21 15 17\n",
      " 19 23 20 50 28 31 44]\n",
      "previous_contacts  values:  [ 0  4  1  3  2  5 20  7  6 10  9  8 18 19 12 13 11 14 15 24 17 22 23 25]\n",
      "conversion  values:  [0 1]\n",
      "There are 11 discrete variables\n"
     ]
    }
   ],
   "source": [
    "# let's visualise the values of the discrete variables \n",
    "# from all the numerical ones, those that contain a finite and small number of distinct values\n",
    "\n",
    "discrete=[]\n",
    "for var in numeric:\n",
    "    if len(data[var].unique())<45:\n",
    "        print (var, ' values: ', data[var].unique())\n",
    "        discrete.append(var)\n",
    "print('There are {} discrete variables'.format(len(discrete)))"
   ]
  },
  {
   "cell_type": "code",
   "execution_count": 12,
   "metadata": {},
   "outputs": [
    {
     "name": "stdout",
     "output_type": "stream",
     "text": [
      "job  values:  [0. 2. 1.]\n",
      "education  values:  [1. 2. 3.]\n",
      "default  values:  [0 1]\n",
      "housing  values:  [0 1]\n",
      "loan  values:  [0 1]\n",
      "contact_type  values:  [0. 1.]\n",
      "day  values:  [19 11 16  3  5 23 14  6 17 20 13 30 29 27  7 18 12 21 26 22  2  4 15  8\n",
      " 28  9  1 10 31 25 24]\n",
      "month  values:  [10  5  4  6  2  8  1  7 11  9  3 12]\n",
      "campaing_contacts  values:  [ 1  4  2  5  3  6 18 10  9  7 12 14 13 24 11  8 29 32 16 22 25 21 15 17\n",
      " 19 23 20 50 28 31 44]\n",
      "previous_contacts  values:  [ 0  4  1  3  2  5 20  7  6 10  9  8 18 19 12 13 11 14 15 24 17 22 23 25]\n",
      "conversion  values:  [0 1]\n"
     ]
    }
   ],
   "source": [
    "# let's visualise the values of the discrete variables\n",
    "for var in discrete:\n",
    "    print(var, ' values: ', data[var].unique())"
   ]
  },
  {
   "cell_type": "code",
   "execution_count": 13,
   "metadata": {},
   "outputs": [
    {
     "data": {
      "text/plain": [
       "['age', 'balance']"
      ]
     },
     "execution_count": 13,
     "metadata": {},
     "output_type": "execute_result"
    }
   ],
   "source": [
    "# seperating continous variables (only inputs)\n",
    "continuous = [var for var in numeric if var not in discrete and var not in ['conversion']]\n",
    "continuous"
   ]
  },
  {
   "cell_type": "markdown",
   "metadata": {},
   "source": [
    "### Encoding categorical data"
   ]
  },
  {
   "cell_type": "code",
   "execution_count": 14,
   "metadata": {},
   "outputs": [],
   "source": [
    "#Categorical boolean mask\n",
    "categorical_feature_mask = data.dtypes=='object'\n",
    "#filter categorical columns using mask and turn it into a list\n",
    "categorical_cols = data.columns[categorical_feature_mask].tolist()"
   ]
  },
  {
   "cell_type": "code",
   "execution_count": 15,
   "metadata": {},
   "outputs": [
    {
     "data": {
      "text/html": [
       "<div>\n",
       "<style scoped>\n",
       "    .dataframe tbody tr th:only-of-type {\n",
       "        vertical-align: middle;\n",
       "    }\n",
       "\n",
       "    .dataframe tbody tr th {\n",
       "        vertical-align: top;\n",
       "    }\n",
       "\n",
       "    .dataframe thead th {\n",
       "        text-align: right;\n",
       "    }\n",
       "</style>\n",
       "<table border=\"1\" class=\"dataframe\">\n",
       "  <thead>\n",
       "    <tr style=\"text-align: right;\">\n",
       "      <th></th>\n",
       "      <th>marital_status</th>\n",
       "    </tr>\n",
       "  </thead>\n",
       "  <tbody>\n",
       "    <tr>\n",
       "      <th>0</th>\n",
       "      <td>1</td>\n",
       "    </tr>\n",
       "    <tr>\n",
       "      <th>1</th>\n",
       "      <td>1</td>\n",
       "    </tr>\n",
       "    <tr>\n",
       "      <th>2</th>\n",
       "      <td>2</td>\n",
       "    </tr>\n",
       "  </tbody>\n",
       "</table>\n",
       "</div>"
      ],
      "text/plain": [
       "   marital_status\n",
       "0               1\n",
       "1               1\n",
       "2               2"
      ]
     },
     "execution_count": 15,
     "metadata": {},
     "output_type": "execute_result"
    }
   ],
   "source": [
    "#import labelencoder\n",
    "from sklearn.preprocessing import LabelEncoder\n",
    "# instantiate labelencoder object\n",
    "le = LabelEncoder()\n",
    "# apply le on categorical feature columns\n",
    "data[categorical_cols] = data[categorical_cols].apply(lambda col: le.fit_transform(col))\n",
    "data[categorical_cols].head(3)# apply OneHotEncoder on categorical feature columns"
   ]
  },
  {
   "cell_type": "code",
   "execution_count": 16,
   "metadata": {},
   "outputs": [
    {
     "name": "stderr",
     "output_type": "stream",
     "text": [
      "D:\\anaconda\\lib\\site-packages\\sklearn\\preprocessing\\_encoders.py:415: FutureWarning: The handling of integer data will change in version 0.22. Currently, the categories are determined based on the range [0, max(values)], while in the future they will be determined based on the unique values.\n",
      "If you want the future behaviour and silence this warning, you can specify \"categories='auto'\".\n",
      "In case you used a LabelEncoder before this OneHotEncoder to convert the categories to integers, then you can now use the OneHotEncoder directly.\n",
      "  warnings.warn(msg, FutureWarning)\n",
      "D:\\anaconda\\lib\\site-packages\\sklearn\\preprocessing\\_encoders.py:451: DeprecationWarning: The 'categorical_features' keyword is deprecated in version 0.20 and will be removed in 0.22. You can use the ColumnTransformer instead.\n",
      "  \"use the ColumnTransformer instead.\", DeprecationWarning)\n"
     ]
    },
    {
     "data": {
      "text/html": [
       "<div>\n",
       "<style scoped>\n",
       "    .dataframe tbody tr th:only-of-type {\n",
       "        vertical-align: middle;\n",
       "    }\n",
       "\n",
       "    .dataframe tbody tr th {\n",
       "        vertical-align: top;\n",
       "    }\n",
       "\n",
       "    .dataframe thead th {\n",
       "        text-align: right;\n",
       "    }\n",
       "</style>\n",
       "<table border=\"1\" class=\"dataframe\">\n",
       "  <thead>\n",
       "    <tr style=\"text-align: right;\">\n",
       "      <th></th>\n",
       "      <th>age</th>\n",
       "      <th>job</th>\n",
       "      <th>marital_status</th>\n",
       "      <th>education</th>\n",
       "      <th>default</th>\n",
       "      <th>balance</th>\n",
       "      <th>housing</th>\n",
       "      <th>loan</th>\n",
       "      <th>contact_type</th>\n",
       "      <th>day</th>\n",
       "      <th>month</th>\n",
       "      <th>campaing_contacts</th>\n",
       "      <th>previous_contacts</th>\n",
       "      <th>conversion</th>\n",
       "    </tr>\n",
       "  </thead>\n",
       "  <tbody>\n",
       "    <tr>\n",
       "      <th>0</th>\n",
       "      <td>30</td>\n",
       "      <td>0.0</td>\n",
       "      <td>1</td>\n",
       "      <td>1.0</td>\n",
       "      <td>0</td>\n",
       "      <td>1787.0</td>\n",
       "      <td>0</td>\n",
       "      <td>0</td>\n",
       "      <td>0.0</td>\n",
       "      <td>19</td>\n",
       "      <td>10</td>\n",
       "      <td>1</td>\n",
       "      <td>0</td>\n",
       "      <td>0</td>\n",
       "    </tr>\n",
       "    <tr>\n",
       "      <th>1</th>\n",
       "      <td>33</td>\n",
       "      <td>2.0</td>\n",
       "      <td>1</td>\n",
       "      <td>2.0</td>\n",
       "      <td>0</td>\n",
       "      <td>4789.0</td>\n",
       "      <td>1</td>\n",
       "      <td>1</td>\n",
       "      <td>0.0</td>\n",
       "      <td>11</td>\n",
       "      <td>5</td>\n",
       "      <td>1</td>\n",
       "      <td>4</td>\n",
       "      <td>0</td>\n",
       "    </tr>\n",
       "    <tr>\n",
       "      <th>2</th>\n",
       "      <td>35</td>\n",
       "      <td>2.0</td>\n",
       "      <td>2</td>\n",
       "      <td>3.0</td>\n",
       "      <td>0</td>\n",
       "      <td>1350.0</td>\n",
       "      <td>1</td>\n",
       "      <td>0</td>\n",
       "      <td>0.0</td>\n",
       "      <td>16</td>\n",
       "      <td>4</td>\n",
       "      <td>1</td>\n",
       "      <td>1</td>\n",
       "      <td>0</td>\n",
       "    </tr>\n",
       "    <tr>\n",
       "      <th>3</th>\n",
       "      <td>30</td>\n",
       "      <td>2.0</td>\n",
       "      <td>1</td>\n",
       "      <td>3.0</td>\n",
       "      <td>0</td>\n",
       "      <td>1476.0</td>\n",
       "      <td>1</td>\n",
       "      <td>1</td>\n",
       "      <td>0.0</td>\n",
       "      <td>3</td>\n",
       "      <td>6</td>\n",
       "      <td>4</td>\n",
       "      <td>0</td>\n",
       "      <td>0</td>\n",
       "    </tr>\n",
       "    <tr>\n",
       "      <th>4</th>\n",
       "      <td>59</td>\n",
       "      <td>1.0</td>\n",
       "      <td>1</td>\n",
       "      <td>2.0</td>\n",
       "      <td>0</td>\n",
       "      <td>0.0</td>\n",
       "      <td>1</td>\n",
       "      <td>0</td>\n",
       "      <td>0.0</td>\n",
       "      <td>5</td>\n",
       "      <td>5</td>\n",
       "      <td>1</td>\n",
       "      <td>0</td>\n",
       "      <td>0</td>\n",
       "    </tr>\n",
       "  </tbody>\n",
       "</table>\n",
       "</div>"
      ],
      "text/plain": [
       "   age  job  marital_status  education  default  balance  housing  loan  \\\n",
       "0   30  0.0               1        1.0        0   1787.0        0     0   \n",
       "1   33  2.0               1        2.0        0   4789.0        1     1   \n",
       "2   35  2.0               2        3.0        0   1350.0        1     0   \n",
       "3   30  2.0               1        3.0        0   1476.0        1     1   \n",
       "4   59  1.0               1        2.0        0      0.0        1     0   \n",
       "\n",
       "   contact_type  day  month  campaing_contacts  previous_contacts  conversion  \n",
       "0           0.0   19     10                  1                  0           0  \n",
       "1           0.0   11      5                  1                  4           0  \n",
       "2           0.0   16      4                  1                  1           0  \n",
       "3           0.0    3      6                  4                  0           0  \n",
       "4           0.0    5      5                  1                  0           0  "
      ]
     },
     "execution_count": 16,
     "metadata": {},
     "output_type": "execute_result"
    }
   ],
   "source": [
    "# import OneHotEncoder\n",
    "from sklearn.preprocessing import OneHotEncoder\n",
    "# instantiate OneHotEncoder\n",
    "ohe = OneHotEncoder(categorical_features = categorical_feature_mask, sparse=False ) \n",
    "#categorical_features = boolean mask for categorical columns\n",
    "#sparse = False output an array not sparse matrix\n",
    "# apply OneHotEncoder on categorical feature columns\n",
    "X_ohe = ohe.fit_transform(data) # It returns an numpy array\n",
    "data.head()"
   ]
  },
  {
   "cell_type": "code",
   "execution_count": 17,
   "metadata": {},
   "outputs": [
    {
     "name": "stdout",
     "output_type": "stream",
     "text": [
      "[1 2 0]\n"
     ]
    }
   ],
   "source": [
    "print(data['marital_status'].unique())"
   ]
  },
  {
   "cell_type": "code",
   "execution_count": 18,
   "metadata": {},
   "outputs": [
    {
     "data": {
      "text/plain": [
       "1    2540\n",
       "2    1100\n",
       "0     480\n",
       "Name: marital_status, dtype: int64"
      ]
     },
     "execution_count": 18,
     "metadata": {},
     "output_type": "execute_result"
    }
   ],
   "source": [
    "ohe_marital= data['marital_status'].value_counts()  \n",
    "ohe_marital"
   ]
  },
  {
   "cell_type": "markdown",
   "metadata": {},
   "source": [
    "##### married     2540 , single      1100, divorced     480"
   ]
  },
  {
   "cell_type": "markdown",
   "metadata": {},
   "source": [
    "### Outliers"
   ]
  },
  {
   "cell_type": "code",
   "execution_count": 19,
   "metadata": {},
   "outputs": [
    {
     "name": "stdout",
     "output_type": "stream",
     "text": [
      "age                    16.00\n",
      "job                     1.00\n",
      "marital_status          1.00\n",
      "education               1.00\n",
      "default                 0.00\n",
      "balance              1423.25\n",
      "housing                 1.00\n",
      "loan                    0.00\n",
      "contact_type            0.00\n",
      "day                    12.00\n",
      "month                   3.00\n",
      "campaing_contacts       2.00\n",
      "previous_contacts       0.00\n",
      "conversion              0.00\n",
      "dtype: float64\n"
     ]
    }
   ],
   "source": [
    "# finding the outliers\n",
    "Q1 = data.quantile(0.25) \n",
    "Q3 = data.quantile(0.75)\n",
    "IQR = Q3 - Q1\n",
    "print(IQR)"
   ]
  },
  {
   "cell_type": "code",
   "execution_count": 20,
   "metadata": {},
   "outputs": [
    {
     "data": {
      "image/png": "[encoded data removed]",
      "text/plain": [
       "<Figure size 1080x432 with 2 Axes>"
      ]
     },
     "metadata": {
      "needs_background": "light"
     },
     "output_type": "display_data"
    },
    {
     "data": {
      "image/png": "[encoded data removed]",
      "text/plain": [
       "<Figure size 1080x432 with 2 Axes>"
      ]
     },
     "metadata": {
      "needs_background": "light"
     },
     "output_type": "display_data"
    }
   ],
   "source": [
    "# let's make boxplots to visualise outliers in the continuous variables \n",
    "# and histograms to get an idea of the distribution\n",
    "\n",
    "for var in continuous:\n",
    "    plt.figure(figsize=(15,6))\n",
    "    plt.subplot(1, 2, 1)\n",
    "    fig = data.boxplot(column=var)\n",
    "    fig.set_title('')\n",
    "    fig.set_ylabel(var)\n",
    "    \n",
    "    plt.subplot(1, 2, 2)\n",
    "    fig = data[var].hist(bins=20)\n",
    "    fig.set_ylabel('conversion')\n",
    "    fig.set_xlabel(var)\n",
    "\n",
    "    plt.show()"
   ]
  },
  {
   "cell_type": "code",
   "execution_count": 21,
   "metadata": {},
   "outputs": [
    {
     "data": {
      "text/html": [
       "<div>\n",
       "<style scoped>\n",
       "    .dataframe tbody tr th:only-of-type {\n",
       "        vertical-align: middle;\n",
       "    }\n",
       "\n",
       "    .dataframe tbody tr th {\n",
       "        vertical-align: top;\n",
       "    }\n",
       "\n",
       "    .dataframe thead th {\n",
       "        text-align: right;\n",
       "    }\n",
       "</style>\n",
       "<table border=\"1\" class=\"dataframe\">\n",
       "  <thead>\n",
       "    <tr style=\"text-align: right;\">\n",
       "      <th></th>\n",
       "      <th>age</th>\n",
       "      <th>job</th>\n",
       "      <th>marital_status</th>\n",
       "      <th>education</th>\n",
       "      <th>default</th>\n",
       "      <th>balance</th>\n",
       "      <th>housing</th>\n",
       "      <th>loan</th>\n",
       "      <th>contact_type</th>\n",
       "      <th>day</th>\n",
       "      <th>month</th>\n",
       "      <th>campaing_contacts</th>\n",
       "      <th>previous_contacts</th>\n",
       "      <th>conversion</th>\n",
       "    </tr>\n",
       "  </thead>\n",
       "  <tbody>\n",
       "    <tr>\n",
       "      <th>871</th>\n",
       "      <td>31</td>\n",
       "      <td>1.0</td>\n",
       "      <td>2</td>\n",
       "      <td>1.0</td>\n",
       "      <td>0</td>\n",
       "      <td>26965.0</td>\n",
       "      <td>0</td>\n",
       "      <td>0</td>\n",
       "      <td>0.0</td>\n",
       "      <td>21</td>\n",
       "      <td>4</td>\n",
       "      <td>2</td>\n",
       "      <td>0</td>\n",
       "      <td>1</td>\n",
       "    </tr>\n",
       "    <tr>\n",
       "      <th>1082</th>\n",
       "      <td>43</td>\n",
       "      <td>1.0</td>\n",
       "      <td>2</td>\n",
       "      <td>3.0</td>\n",
       "      <td>0</td>\n",
       "      <td>27733.0</td>\n",
       "      <td>1</td>\n",
       "      <td>0</td>\n",
       "      <td>0.0</td>\n",
       "      <td>3</td>\n",
       "      <td>6</td>\n",
       "      <td>7</td>\n",
       "      <td>0</td>\n",
       "      <td>0</td>\n",
       "    </tr>\n",
       "    <tr>\n",
       "      <th>1480</th>\n",
       "      <td>36</td>\n",
       "      <td>2.0</td>\n",
       "      <td>1</td>\n",
       "      <td>3.0</td>\n",
       "      <td>0</td>\n",
       "      <td>27359.0</td>\n",
       "      <td>1</td>\n",
       "      <td>0</td>\n",
       "      <td>0.0</td>\n",
       "      <td>3</td>\n",
       "      <td>6</td>\n",
       "      <td>2</td>\n",
       "      <td>0</td>\n",
       "      <td>0</td>\n",
       "    </tr>\n",
       "    <tr>\n",
       "      <th>1795</th>\n",
       "      <td>54</td>\n",
       "      <td>2.0</td>\n",
       "      <td>0</td>\n",
       "      <td>3.0</td>\n",
       "      <td>0</td>\n",
       "      <td>26306.0</td>\n",
       "      <td>1</td>\n",
       "      <td>0</td>\n",
       "      <td>0.0</td>\n",
       "      <td>11</td>\n",
       "      <td>2</td>\n",
       "      <td>1</td>\n",
       "      <td>3</td>\n",
       "      <td>0</td>\n",
       "    </tr>\n",
       "    <tr>\n",
       "      <th>2588</th>\n",
       "      <td>42</td>\n",
       "      <td>2.0</td>\n",
       "      <td>1</td>\n",
       "      <td>3.0</td>\n",
       "      <td>0</td>\n",
       "      <td>42045.0</td>\n",
       "      <td>0</td>\n",
       "      <td>0</td>\n",
       "      <td>0.0</td>\n",
       "      <td>8</td>\n",
       "      <td>8</td>\n",
       "      <td>2</td>\n",
       "      <td>0</td>\n",
       "      <td>0</td>\n",
       "    </tr>\n",
       "    <tr>\n",
       "      <th>2610</th>\n",
       "      <td>50</td>\n",
       "      <td>2.0</td>\n",
       "      <td>1</td>\n",
       "      <td>2.0</td>\n",
       "      <td>0</td>\n",
       "      <td>26394.0</td>\n",
       "      <td>0</td>\n",
       "      <td>0</td>\n",
       "      <td>0.0</td>\n",
       "      <td>25</td>\n",
       "      <td>8</td>\n",
       "      <td>4</td>\n",
       "      <td>0</td>\n",
       "      <td>0</td>\n",
       "    </tr>\n",
       "    <tr>\n",
       "      <th>3299</th>\n",
       "      <td>60</td>\n",
       "      <td>0.0</td>\n",
       "      <td>1</td>\n",
       "      <td>1.0</td>\n",
       "      <td>0</td>\n",
       "      <td>71188.0</td>\n",
       "      <td>0</td>\n",
       "      <td>0</td>\n",
       "      <td>0.0</td>\n",
       "      <td>6</td>\n",
       "      <td>10</td>\n",
       "      <td>1</td>\n",
       "      <td>0</td>\n",
       "      <td>0</td>\n",
       "    </tr>\n",
       "    <tr>\n",
       "      <th>3429</th>\n",
       "      <td>57</td>\n",
       "      <td>1.0</td>\n",
       "      <td>1</td>\n",
       "      <td>3.0</td>\n",
       "      <td>0</td>\n",
       "      <td>27069.0</td>\n",
       "      <td>0</td>\n",
       "      <td>1</td>\n",
       "      <td>0.0</td>\n",
       "      <td>20</td>\n",
       "      <td>6</td>\n",
       "      <td>3</td>\n",
       "      <td>0</td>\n",
       "      <td>0</td>\n",
       "    </tr>\n",
       "    <tr>\n",
       "      <th>3646</th>\n",
       "      <td>75</td>\n",
       "      <td>0.0</td>\n",
       "      <td>1</td>\n",
       "      <td>2.0</td>\n",
       "      <td>0</td>\n",
       "      <td>26452.0</td>\n",
       "      <td>0</td>\n",
       "      <td>0</td>\n",
       "      <td>1.0</td>\n",
       "      <td>15</td>\n",
       "      <td>7</td>\n",
       "      <td>2</td>\n",
       "      <td>0</td>\n",
       "      <td>0</td>\n",
       "    </tr>\n",
       "  </tbody>\n",
       "</table>\n",
       "</div>"
      ],
      "text/plain": [
       "      age  job  marital_status  education  default  balance  housing  loan  \\\n",
       "871    31  1.0               2        1.0        0  26965.0        0     0   \n",
       "1082   43  1.0               2        3.0        0  27733.0        1     0   \n",
       "1480   36  2.0               1        3.0        0  27359.0        1     0   \n",
       "1795   54  2.0               0        3.0        0  26306.0        1     0   \n",
       "2588   42  2.0               1        3.0        0  42045.0        0     0   \n",
       "2610   50  2.0               1        2.0        0  26394.0        0     0   \n",
       "3299   60  0.0               1        1.0        0  71188.0        0     0   \n",
       "3429   57  1.0               1        3.0        0  27069.0        0     1   \n",
       "3646   75  0.0               1        2.0        0  26452.0        0     0   \n",
       "\n",
       "      contact_type  day  month  campaing_contacts  previous_contacts  \\\n",
       "871            0.0   21      4                  2                  0   \n",
       "1082           0.0    3      6                  7                  0   \n",
       "1480           0.0    3      6                  2                  0   \n",
       "1795           0.0   11      2                  1                  3   \n",
       "2588           0.0    8      8                  2                  0   \n",
       "2610           0.0   25      8                  4                  0   \n",
       "3299           0.0    6     10                  1                  0   \n",
       "3429           0.0   20      6                  3                  0   \n",
       "3646           1.0   15      7                  2                  0   \n",
       "\n",
       "      conversion  \n",
       "871            1  \n",
       "1082           0  \n",
       "1480           0  \n",
       "1795           0  \n",
       "2588           0  \n",
       "2610           0  \n",
       "3299           0  \n",
       "3429           0  \n",
       "3646           0  "
      ]
     },
     "execution_count": 21,
     "metadata": {},
     "output_type": "execute_result"
    }
   ],
   "source": [
    "# let's have a look at the most extreme outliers\n",
    "data[data.balance>25000]"
   ]
  },
  {
   "cell_type": "markdown",
   "metadata": {},
   "source": [
    "### most of the clients invest in long terms deposits than keep bank balance in their bank account"
   ]
  },
  {
   "cell_type": "code",
   "execution_count": 22,
   "metadata": {},
   "outputs": [
    {
     "data": {
      "text/html": [
       "<div>\n",
       "<style scoped>\n",
       "    .dataframe tbody tr th:only-of-type {\n",
       "        vertical-align: middle;\n",
       "    }\n",
       "\n",
       "    .dataframe tbody tr th {\n",
       "        vertical-align: top;\n",
       "    }\n",
       "\n",
       "    .dataframe thead th {\n",
       "        text-align: right;\n",
       "    }\n",
       "</style>\n",
       "<table border=\"1\" class=\"dataframe\">\n",
       "  <thead>\n",
       "    <tr style=\"text-align: right;\">\n",
       "      <th></th>\n",
       "      <th>age</th>\n",
       "      <th>job</th>\n",
       "      <th>marital_status</th>\n",
       "      <th>education</th>\n",
       "      <th>default</th>\n",
       "      <th>balance</th>\n",
       "      <th>housing</th>\n",
       "      <th>loan</th>\n",
       "      <th>contact_type</th>\n",
       "      <th>day</th>\n",
       "      <th>month</th>\n",
       "      <th>campaing_contacts</th>\n",
       "      <th>previous_contacts</th>\n",
       "      <th>conversion</th>\n",
       "    </tr>\n",
       "  </thead>\n",
       "  <tbody>\n",
       "    <tr>\n",
       "      <th>36</th>\n",
       "      <td>78</td>\n",
       "      <td>0.0</td>\n",
       "      <td>0</td>\n",
       "      <td>1.0</td>\n",
       "      <td>0</td>\n",
       "      <td>229.0</td>\n",
       "      <td>0</td>\n",
       "      <td>0</td>\n",
       "      <td>1.0</td>\n",
       "      <td>22</td>\n",
       "      <td>10</td>\n",
       "      <td>1</td>\n",
       "      <td>0</td>\n",
       "      <td>1</td>\n",
       "    </tr>\n",
       "    <tr>\n",
       "      <th>129</th>\n",
       "      <td>77</td>\n",
       "      <td>0.0</td>\n",
       "      <td>0</td>\n",
       "      <td>3.0</td>\n",
       "      <td>0</td>\n",
       "      <td>4659.0</td>\n",
       "      <td>0</td>\n",
       "      <td>0</td>\n",
       "      <td>0.0</td>\n",
       "      <td>14</td>\n",
       "      <td>4</td>\n",
       "      <td>1</td>\n",
       "      <td>0</td>\n",
       "      <td>1</td>\n",
       "    </tr>\n",
       "    <tr>\n",
       "      <th>166</th>\n",
       "      <td>78</td>\n",
       "      <td>1.0</td>\n",
       "      <td>1</td>\n",
       "      <td>2.0</td>\n",
       "      <td>0</td>\n",
       "      <td>499.0</td>\n",
       "      <td>0</td>\n",
       "      <td>0</td>\n",
       "      <td>1.0</td>\n",
       "      <td>16</td>\n",
       "      <td>3</td>\n",
       "      <td>4</td>\n",
       "      <td>0</td>\n",
       "      <td>0</td>\n",
       "    </tr>\n",
       "    <tr>\n",
       "      <th>477</th>\n",
       "      <td>77</td>\n",
       "      <td>0.0</td>\n",
       "      <td>1</td>\n",
       "      <td>3.0</td>\n",
       "      <td>0</td>\n",
       "      <td>7802.0</td>\n",
       "      <td>0</td>\n",
       "      <td>0</td>\n",
       "      <td>1.0</td>\n",
       "      <td>4</td>\n",
       "      <td>5</td>\n",
       "      <td>1</td>\n",
       "      <td>2</td>\n",
       "      <td>1</td>\n",
       "    </tr>\n",
       "    <tr>\n",
       "      <th>573</th>\n",
       "      <td>81</td>\n",
       "      <td>0.0</td>\n",
       "      <td>1</td>\n",
       "      <td>2.0</td>\n",
       "      <td>0</td>\n",
       "      <td>1.0</td>\n",
       "      <td>0</td>\n",
       "      <td>0</td>\n",
       "      <td>0.0</td>\n",
       "      <td>19</td>\n",
       "      <td>8</td>\n",
       "      <td>5</td>\n",
       "      <td>0</td>\n",
       "      <td>0</td>\n",
       "    </tr>\n",
       "    <tr>\n",
       "      <th>633</th>\n",
       "      <td>83</td>\n",
       "      <td>0.0</td>\n",
       "      <td>1</td>\n",
       "      <td>2.0</td>\n",
       "      <td>0</td>\n",
       "      <td>0.0</td>\n",
       "      <td>0</td>\n",
       "      <td>0</td>\n",
       "      <td>0.0</td>\n",
       "      <td>18</td>\n",
       "      <td>3</td>\n",
       "      <td>10</td>\n",
       "      <td>0</td>\n",
       "      <td>0</td>\n",
       "    </tr>\n",
       "    <tr>\n",
       "      <th>688</th>\n",
       "      <td>80</td>\n",
       "      <td>2.0</td>\n",
       "      <td>1</td>\n",
       "      <td>1.0</td>\n",
       "      <td>0</td>\n",
       "      <td>6483.0</td>\n",
       "      <td>0</td>\n",
       "      <td>0</td>\n",
       "      <td>1.0</td>\n",
       "      <td>19</td>\n",
       "      <td>10</td>\n",
       "      <td>1</td>\n",
       "      <td>0</td>\n",
       "      <td>0</td>\n",
       "    </tr>\n",
       "    <tr>\n",
       "      <th>1021</th>\n",
       "      <td>79</td>\n",
       "      <td>0.0</td>\n",
       "      <td>1</td>\n",
       "      <td>2.0</td>\n",
       "      <td>0</td>\n",
       "      <td>4738.0</td>\n",
       "      <td>0</td>\n",
       "      <td>0</td>\n",
       "      <td>1.0</td>\n",
       "      <td>9</td>\n",
       "      <td>7</td>\n",
       "      <td>5</td>\n",
       "      <td>0</td>\n",
       "      <td>0</td>\n",
       "    </tr>\n",
       "    <tr>\n",
       "      <th>1036</th>\n",
       "      <td>77</td>\n",
       "      <td>0.0</td>\n",
       "      <td>1</td>\n",
       "      <td>3.0</td>\n",
       "      <td>0</td>\n",
       "      <td>0.0</td>\n",
       "      <td>0</td>\n",
       "      <td>0</td>\n",
       "      <td>0.0</td>\n",
       "      <td>16</td>\n",
       "      <td>10</td>\n",
       "      <td>1</td>\n",
       "      <td>1</td>\n",
       "      <td>1</td>\n",
       "    </tr>\n",
       "    <tr>\n",
       "      <th>1465</th>\n",
       "      <td>86</td>\n",
       "      <td>0.0</td>\n",
       "      <td>1</td>\n",
       "      <td>2.0</td>\n",
       "      <td>0</td>\n",
       "      <td>1503.0</td>\n",
       "      <td>0</td>\n",
       "      <td>0</td>\n",
       "      <td>1.0</td>\n",
       "      <td>18</td>\n",
       "      <td>3</td>\n",
       "      <td>3</td>\n",
       "      <td>1</td>\n",
       "      <td>0</td>\n",
       "    </tr>\n",
       "    <tr>\n",
       "      <th>1548</th>\n",
       "      <td>78</td>\n",
       "      <td>0.0</td>\n",
       "      <td>1</td>\n",
       "      <td>3.0</td>\n",
       "      <td>0</td>\n",
       "      <td>226.0</td>\n",
       "      <td>0</td>\n",
       "      <td>0</td>\n",
       "      <td>1.0</td>\n",
       "      <td>6</td>\n",
       "      <td>11</td>\n",
       "      <td>1</td>\n",
       "      <td>0</td>\n",
       "      <td>0</td>\n",
       "    </tr>\n",
       "    <tr>\n",
       "      <th>1555</th>\n",
       "      <td>77</td>\n",
       "      <td>0.0</td>\n",
       "      <td>1</td>\n",
       "      <td>1.0</td>\n",
       "      <td>0</td>\n",
       "      <td>680.0</td>\n",
       "      <td>0</td>\n",
       "      <td>0</td>\n",
       "      <td>1.0</td>\n",
       "      <td>24</td>\n",
       "      <td>2</td>\n",
       "      <td>2</td>\n",
       "      <td>7</td>\n",
       "      <td>0</td>\n",
       "    </tr>\n",
       "    <tr>\n",
       "      <th>1669</th>\n",
       "      <td>80</td>\n",
       "      <td>0.0</td>\n",
       "      <td>1</td>\n",
       "      <td>2.0</td>\n",
       "      <td>0</td>\n",
       "      <td>8304.0</td>\n",
       "      <td>0</td>\n",
       "      <td>0</td>\n",
       "      <td>1.0</td>\n",
       "      <td>6</td>\n",
       "      <td>4</td>\n",
       "      <td>1</td>\n",
       "      <td>11</td>\n",
       "      <td>0</td>\n",
       "    </tr>\n",
       "    <tr>\n",
       "      <th>2447</th>\n",
       "      <td>80</td>\n",
       "      <td>0.0</td>\n",
       "      <td>1</td>\n",
       "      <td>2.0</td>\n",
       "      <td>0</td>\n",
       "      <td>462.0</td>\n",
       "      <td>0</td>\n",
       "      <td>0</td>\n",
       "      <td>0.0</td>\n",
       "      <td>7</td>\n",
       "      <td>12</td>\n",
       "      <td>2</td>\n",
       "      <td>0</td>\n",
       "      <td>0</td>\n",
       "    </tr>\n",
       "    <tr>\n",
       "      <th>2495</th>\n",
       "      <td>80</td>\n",
       "      <td>0.0</td>\n",
       "      <td>1</td>\n",
       "      <td>1.0</td>\n",
       "      <td>0</td>\n",
       "      <td>1548.0</td>\n",
       "      <td>0</td>\n",
       "      <td>0</td>\n",
       "      <td>0.0</td>\n",
       "      <td>6</td>\n",
       "      <td>8</td>\n",
       "      <td>2</td>\n",
       "      <td>0</td>\n",
       "      <td>0</td>\n",
       "    </tr>\n",
       "    <tr>\n",
       "      <th>2792</th>\n",
       "      <td>76</td>\n",
       "      <td>0.0</td>\n",
       "      <td>0</td>\n",
       "      <td>1.0</td>\n",
       "      <td>0</td>\n",
       "      <td>86.0</td>\n",
       "      <td>0</td>\n",
       "      <td>0</td>\n",
       "      <td>0.0</td>\n",
       "      <td>12</td>\n",
       "      <td>8</td>\n",
       "      <td>1</td>\n",
       "      <td>0</td>\n",
       "      <td>0</td>\n",
       "    </tr>\n",
       "    <tr>\n",
       "      <th>2801</th>\n",
       "      <td>79</td>\n",
       "      <td>0.0</td>\n",
       "      <td>1</td>\n",
       "      <td>1.0</td>\n",
       "      <td>0</td>\n",
       "      <td>8556.0</td>\n",
       "      <td>0</td>\n",
       "      <td>0</td>\n",
       "      <td>1.0</td>\n",
       "      <td>18</td>\n",
       "      <td>1</td>\n",
       "      <td>2</td>\n",
       "      <td>2</td>\n",
       "      <td>1</td>\n",
       "    </tr>\n",
       "    <tr>\n",
       "      <th>2804</th>\n",
       "      <td>77</td>\n",
       "      <td>0.0</td>\n",
       "      <td>1</td>\n",
       "      <td>1.0</td>\n",
       "      <td>0</td>\n",
       "      <td>680.0</td>\n",
       "      <td>0</td>\n",
       "      <td>0</td>\n",
       "      <td>1.0</td>\n",
       "      <td>27</td>\n",
       "      <td>11</td>\n",
       "      <td>4</td>\n",
       "      <td>3</td>\n",
       "      <td>0</td>\n",
       "    </tr>\n",
       "    <tr>\n",
       "      <th>2910</th>\n",
       "      <td>87</td>\n",
       "      <td>0.0</td>\n",
       "      <td>1</td>\n",
       "      <td>1.0</td>\n",
       "      <td>0</td>\n",
       "      <td>230.0</td>\n",
       "      <td>0</td>\n",
       "      <td>0</td>\n",
       "      <td>0.0</td>\n",
       "      <td>30</td>\n",
       "      <td>10</td>\n",
       "      <td>1</td>\n",
       "      <td>0</td>\n",
       "      <td>1</td>\n",
       "    </tr>\n",
       "    <tr>\n",
       "      <th>2959</th>\n",
       "      <td>79</td>\n",
       "      <td>0.0</td>\n",
       "      <td>1</td>\n",
       "      <td>1.0</td>\n",
       "      <td>0</td>\n",
       "      <td>429.0</td>\n",
       "      <td>0</td>\n",
       "      <td>0</td>\n",
       "      <td>1.0</td>\n",
       "      <td>8</td>\n",
       "      <td>7</td>\n",
       "      <td>2</td>\n",
       "      <td>0</td>\n",
       "      <td>1</td>\n",
       "    </tr>\n",
       "    <tr>\n",
       "      <th>3094</th>\n",
       "      <td>76</td>\n",
       "      <td>0.0</td>\n",
       "      <td>1</td>\n",
       "      <td>1.0</td>\n",
       "      <td>0</td>\n",
       "      <td>2590.0</td>\n",
       "      <td>0</td>\n",
       "      <td>0</td>\n",
       "      <td>1.0</td>\n",
       "      <td>9</td>\n",
       "      <td>2</td>\n",
       "      <td>12</td>\n",
       "      <td>0</td>\n",
       "      <td>0</td>\n",
       "    </tr>\n",
       "    <tr>\n",
       "      <th>3289</th>\n",
       "      <td>80</td>\n",
       "      <td>1.0</td>\n",
       "      <td>1</td>\n",
       "      <td>1.0</td>\n",
       "      <td>0</td>\n",
       "      <td>0.0</td>\n",
       "      <td>0</td>\n",
       "      <td>0</td>\n",
       "      <td>0.0</td>\n",
       "      <td>23</td>\n",
       "      <td>2</td>\n",
       "      <td>1</td>\n",
       "      <td>1</td>\n",
       "      <td>1</td>\n",
       "    </tr>\n",
       "    <tr>\n",
       "      <th>3349</th>\n",
       "      <td>79</td>\n",
       "      <td>0.0</td>\n",
       "      <td>0</td>\n",
       "      <td>2.0</td>\n",
       "      <td>0</td>\n",
       "      <td>2628.0</td>\n",
       "      <td>0</td>\n",
       "      <td>0</td>\n",
       "      <td>1.0</td>\n",
       "      <td>8</td>\n",
       "      <td>7</td>\n",
       "      <td>7</td>\n",
       "      <td>2</td>\n",
       "      <td>0</td>\n",
       "    </tr>\n",
       "    <tr>\n",
       "      <th>3707</th>\n",
       "      <td>84</td>\n",
       "      <td>0.0</td>\n",
       "      <td>0</td>\n",
       "      <td>1.0</td>\n",
       "      <td>0</td>\n",
       "      <td>639.0</td>\n",
       "      <td>0</td>\n",
       "      <td>0</td>\n",
       "      <td>1.0</td>\n",
       "      <td>18</td>\n",
       "      <td>5</td>\n",
       "      <td>3</td>\n",
       "      <td>0</td>\n",
       "      <td>1</td>\n",
       "    </tr>\n",
       "    <tr>\n",
       "      <th>3922</th>\n",
       "      <td>83</td>\n",
       "      <td>0.0</td>\n",
       "      <td>0</td>\n",
       "      <td>1.0</td>\n",
       "      <td>0</td>\n",
       "      <td>0.0</td>\n",
       "      <td>0</td>\n",
       "      <td>0</td>\n",
       "      <td>1.0</td>\n",
       "      <td>31</td>\n",
       "      <td>5</td>\n",
       "      <td>1</td>\n",
       "      <td>3</td>\n",
       "      <td>0</td>\n",
       "    </tr>\n",
       "    <tr>\n",
       "      <th>3987</th>\n",
       "      <td>83</td>\n",
       "      <td>0.0</td>\n",
       "      <td>0</td>\n",
       "      <td>1.0</td>\n",
       "      <td>0</td>\n",
       "      <td>1097.0</td>\n",
       "      <td>0</td>\n",
       "      <td>0</td>\n",
       "      <td>1.0</td>\n",
       "      <td>5</td>\n",
       "      <td>3</td>\n",
       "      <td>1</td>\n",
       "      <td>0</td>\n",
       "      <td>1</td>\n",
       "    </tr>\n",
       "  </tbody>\n",
       "</table>\n",
       "</div>"
      ],
      "text/plain": [
       "      age  job  marital_status  education  default  balance  housing  loan  \\\n",
       "36     78  0.0               0        1.0        0    229.0        0     0   \n",
       "129    77  0.0               0        3.0        0   4659.0        0     0   \n",
       "166    78  1.0               1        2.0        0    499.0        0     0   \n",
       "477    77  0.0               1        3.0        0   7802.0        0     0   \n",
       "573    81  0.0               1        2.0        0      1.0        0     0   \n",
       "633    83  0.0               1        2.0        0      0.0        0     0   \n",
       "688    80  2.0               1        1.0        0   6483.0        0     0   \n",
       "1021   79  0.0               1        2.0        0   4738.0        0     0   \n",
       "1036   77  0.0               1        3.0        0      0.0        0     0   \n",
       "1465   86  0.0               1        2.0        0   1503.0        0     0   \n",
       "1548   78  0.0               1        3.0        0    226.0        0     0   \n",
       "1555   77  0.0               1        1.0        0    680.0        0     0   \n",
       "1669   80  0.0               1        2.0        0   8304.0        0     0   \n",
       "2447   80  0.0               1        2.0        0    462.0        0     0   \n",
       "2495   80  0.0               1        1.0        0   1548.0        0     0   \n",
       "2792   76  0.0               0        1.0        0     86.0        0     0   \n",
       "2801   79  0.0               1        1.0        0   8556.0        0     0   \n",
       "2804   77  0.0               1        1.0        0    680.0        0     0   \n",
       "2910   87  0.0               1        1.0        0    230.0        0     0   \n",
       "2959   79  0.0               1        1.0        0    429.0        0     0   \n",
       "3094   76  0.0               1        1.0        0   2590.0        0     0   \n",
       "3289   80  1.0               1        1.0        0      0.0        0     0   \n",
       "3349   79  0.0               0        2.0        0   2628.0        0     0   \n",
       "3707   84  0.0               0        1.0        0    639.0        0     0   \n",
       "3922   83  0.0               0        1.0        0      0.0        0     0   \n",
       "3987   83  0.0               0        1.0        0   1097.0        0     0   \n",
       "\n",
       "      contact_type  day  month  campaing_contacts  previous_contacts  \\\n",
       "36             1.0   22     10                  1                  0   \n",
       "129            0.0   14      4                  1                  0   \n",
       "166            1.0   16      3                  4                  0   \n",
       "477            1.0    4      5                  1                  2   \n",
       "573            0.0   19      8                  5                  0   \n",
       "633            0.0   18      3                 10                  0   \n",
       "688            1.0   19     10                  1                  0   \n",
       "1021           1.0    9      7                  5                  0   \n",
       "1036           0.0   16     10                  1                  1   \n",
       "1465           1.0   18      3                  3                  1   \n",
       "1548           1.0    6     11                  1                  0   \n",
       "1555           1.0   24      2                  2                  7   \n",
       "1669           1.0    6      4                  1                 11   \n",
       "2447           0.0    7     12                  2                  0   \n",
       "2495           0.0    6      8                  2                  0   \n",
       "2792           0.0   12      8                  1                  0   \n",
       "2801           1.0   18      1                  2                  2   \n",
       "2804           1.0   27     11                  4                  3   \n",
       "2910           0.0   30     10                  1                  0   \n",
       "2959           1.0    8      7                  2                  0   \n",
       "3094           1.0    9      2                 12                  0   \n",
       "3289           0.0   23      2                  1                  1   \n",
       "3349           1.0    8      7                  7                  2   \n",
       "3707           1.0   18      5                  3                  0   \n",
       "3922           1.0   31      5                  1                  3   \n",
       "3987           1.0    5      3                  1                  0   \n",
       "\n",
       "      conversion  \n",
       "36             1  \n",
       "129            1  \n",
       "166            0  \n",
       "477            1  \n",
       "573            0  \n",
       "633            0  \n",
       "688            0  \n",
       "1021           0  \n",
       "1036           1  \n",
       "1465           0  \n",
       "1548           0  \n",
       "1555           0  \n",
       "1669           0  \n",
       "2447           0  \n",
       "2495           0  \n",
       "2792           0  \n",
       "2801           1  \n",
       "2804           0  \n",
       "2910           1  \n",
       "2959           1  \n",
       "3094           0  \n",
       "3289           1  \n",
       "3349           0  \n",
       "3707           1  \n",
       "3922           0  \n",
       "3987           1  "
      ]
     },
     "execution_count": 22,
     "metadata": {},
     "output_type": "execute_result"
    }
   ],
   "source": [
    "data[data.age>75]"
   ]
  },
  {
   "cell_type": "markdown",
   "metadata": {},
   "source": [
    "### aged clients >75 are taking long-term deposits after the bank direct tele marketing campaigns. "
   ]
  },
  {
   "cell_type": "markdown",
   "metadata": {},
   "source": [
    "### Outlier treatment using capping and flooring"
   ]
  },
  {
   "cell_type": "code",
   "execution_count": 23,
   "metadata": {},
   "outputs": [
    {
     "name": "stdout",
     "output_type": "stream",
     "text": [
      "balance outliers are values < -4202.75 or > 5760.0\n"
     ]
    }
   ],
   "source": [
    "# handling outliersin 'balance' variable using capping and flooring\n",
    "IQR = data.balance.quantile(0.75) - data.balance.quantile(0.25)\n",
    "Lower_fence = data.balance.quantile(0.25) - (IQR * 3)\n",
    "Upper_fence = data.balance.quantile(0.75) + (IQR * 3)\n",
    "print('balance outliers are values < {lowerboundary} or > {upperboundary}'.format(lowerboundary=Lower_fence, upperboundary=Upper_fence))"
   ]
  },
  {
   "cell_type": "code",
   "execution_count": 24,
   "metadata": {},
   "outputs": [
    {
     "name": "stdout",
     "output_type": "stream",
     "text": [
      "1.6442718146390864\n"
     ]
    }
   ],
   "source": [
    "#Quantile-based Flooring and Capping\n",
    "data['balance'] = np.where(data[\"balance\"] <-4202.75,-4202.75, data['balance'])\n",
    "data[\"balance\"] = np.where(data[\"balance\"] > 5760.0, 5760.0, data['balance'])\n",
    "print(data['balance'].skew())"
   ]
  },
  {
   "cell_type": "code",
   "execution_count": 25,
   "metadata": {},
   "outputs": [
    {
     "name": "stdout",
     "output_type": "stream",
     "text": [
      "age outliers are values < -15.0 or > 97.0\n"
     ]
    }
   ],
   "source": [
    "# handling outliersin 'balance' variable using capping and flooring\n",
    "IQR = data.age.quantile(0.75) - data.age.quantile(0.25)\n",
    "Lower_fence = data.age.quantile(0.25) - (IQR * 3)\n",
    "Upper_fence = data.age.quantile(0.75) + (IQR * 3)\n",
    "print('age outliers are values < {lowerboundary} or > {upperboundary}'.format(lowerboundary=Lower_fence, upperboundary=Upper_fence))"
   ]
  },
  {
   "cell_type": "code",
   "execution_count": 26,
   "metadata": {},
   "outputs": [
    {
     "name": "stdout",
     "output_type": "stream",
     "text": [
      "0.6906529583726445\n"
     ]
    }
   ],
   "source": [
    "#Quantile-based Flooring and Capping\n",
    "data['age'] = np.where(data[\"age\"] <-15.0,-15.0, data['age'])\n",
    "data[\"age\"] = np.where(data['age'] > 97.0, 97.0, data['age'])\n",
    "print(data['age'].skew())"
   ]
  },
  {
   "cell_type": "markdown",
   "metadata": {},
   "source": [
    "# Data Visiualization"
   ]
  },
  {
   "cell_type": "code",
   "execution_count": 27,
   "metadata": {},
   "outputs": [
    {
     "data": {
      "image/png": "[encoded data removed]",
      "text/plain": [
       "<Figure size 432x288 with 1 Axes>"
      ]
     },
     "metadata": {
      "needs_background": "light"
     },
     "output_type": "display_data"
    }
   ],
   "source": [
    "import matplotlib.pyplot as plt # distribution of target variable\n",
    "plt.hist(data['conversion'])\n",
    "plt.show() # "
   ]
  },
  {
   "cell_type": "code",
   "execution_count": 28,
   "metadata": {},
   "outputs": [
    {
     "data": {
      "image/png": "[encoded data removed]",
      "text/plain": [
       "<Figure size 432x288 with 1 Axes>"
      ]
     },
     "metadata": {},
     "output_type": "display_data"
    }
   ],
   "source": [
    "# Pie chart, where the slices will be ordered and plotted counter-clockwise\n",
    "labels = ['positive conversion', 'negative conversion']\n",
    "sizes = [11.5, 88.5]\n",
    "colors = ['gold', 'yellowgreen']\n",
    "explode = (0.1, 0)  # explode 1st slice\n",
    "# Plot\n",
    "plt.pie(sizes, explode=explode, labels=labels, colors=colors,\n",
    "autopct='%1.1f%%', shadow=True, startangle=140)\n",
    "plt.axis('equal')\n",
    "plt.tight_layout()\n",
    "plt.show()"
   ]
  },
  {
   "cell_type": "markdown",
   "metadata": {},
   "source": [
    "* postive customer taking up long-terms deposits are very very less\n",
    "* chart for the customers of a bank that purchase a bank deposit in a marketing campaign, which is a binary variable(target)"
   ]
  },
  {
   "cell_type": "code",
   "execution_count": 29,
   "metadata": {},
   "outputs": [
    {
     "data": {
      "image/png": "[encoded data removed]",
      "text/plain": [
       "<Figure size 1152x1080 with 2 Axes>"
      ]
     },
     "metadata": {
      "needs_background": "light"
     },
     "output_type": "display_data"
    }
   ],
   "source": [
    "import seaborn as sns\n",
    "corr = data.corr()\n",
    "\n",
    "cor_plot = sns.heatmap(corr,annot=True,cmap='RdYlGn',linewidths=0.2,annot_kws={'size':10})\n",
    "fig=plt.gcf()\n",
    "fig.set_size_inches(16,15)\n",
    "plt.xticks(fontsize=10,rotation=-30)\n",
    "plt.yticks(fontsize=10)\n",
    "plt.title('Correlation Matrix')\n",
    "plt.show()"
   ]
  },
  {
   "cell_type": "markdown",
   "metadata": {},
   "source": [
    "* “conversion” has a +10 correlation with “previous contacts”, +5% with education, +3% with age, 2% wtih marital status.\n",
    "* \"conversion\" has -9% correlation with housing, -6% with loan and -6% with campaing_contacts, -2% with job"
   ]
  },
  {
   "cell_type": "markdown",
   "metadata": {},
   "source": [
    "### Relationship with conversion and each feature"
   ]
  },
  {
   "cell_type": "code",
   "execution_count": 31,
   "metadata": {},
   "outputs": [
    {
     "data": {
      "text/plain": [
       "Text(0, 0.5, 'bank balance')"
      ]
     },
     "execution_count": 31,
     "metadata": {},
     "output_type": "execute_result"
    },
    {
     "data": {
      "image/png": "[encoded data removed]",
      "text/plain": [
       "<Figure size 432x288 with 1 Axes>"
      ]
     },
     "metadata": {
      "needs_background": "light"
     },
     "output_type": "display_data"
    }
   ],
   "source": [
    "fig = plt.figure()\n",
    "fig = data.groupby(['age'])['balance'].mean().plot()\n",
    "fig.set_title('relationship between age and bank balance')\n",
    "fig.set_ylabel('bank balance')"
   ]
  },
  {
   "cell_type": "markdown",
   "metadata": {},
   "source": [
    "* target older clients with high balance levels. older clients have higher bank balance"
   ]
  },
  {
   "cell_type": "code",
   "execution_count": 32,
   "metadata": {},
   "outputs": [
    {
     "data": {
      "text/plain": [
       "Text(0, 0.5, 'conversion')"
      ]
     },
     "execution_count": 32,
     "metadata": {},
     "output_type": "execute_result"
    },
    {
     "data": {
      "image/png": "[encoded data removed]",
      "text/plain": [
       "<Figure size 432x288 with 1 Axes>"
      ]
     },
     "metadata": {
      "needs_background": "light"
     },
     "output_type": "display_data"
    }
   ],
   "source": [
    "fig = plt.figure()\n",
    "fig = data.groupby(['age'])['conversion'].mean().plot()\n",
    "fig.set_title('Normal relationship between variable and target')\n",
    "fig.set_ylabel('conversion')"
   ]
  },
  {
   "cell_type": "markdown",
   "metadata": {},
   "source": [
    "Insights: target the youngest and the oldest instead of the middle-aged"
   ]
  },
  {
   "cell_type": "code",
   "execution_count": 33,
   "metadata": {},
   "outputs": [
    {
     "data": {
      "text/plain": [
       "Text(0, 0.5, 'conversion')"
      ]
     },
     "execution_count": 33,
     "metadata": {},
     "output_type": "execute_result"
    },
    {
     "data": {
      "image/png": "[encoded data removed]",
      "text/plain": [
       "<Figure size 432x288 with 1 Axes>"
      ]
     },
     "metadata": {
      "needs_background": "light"
     },
     "output_type": "display_data"
    }
   ],
   "source": [
    "fig = plt.figure()\n",
    "fig = data.groupby(['job'])['conversion'].mean().plot()\n",
    "fig.set_title('relationship between job variable and target')\n",
    "fig.set_ylabel('conversion')#(0=retired, 1=employed, 2=student)"
   ]
  },
  {
   "cell_type": "markdown",
   "metadata": {},
   "source": [
    "* retired and students are prone to take up long term deposits.(maybe parents take deposits for their dependent students)"
   ]
  },
  {
   "cell_type": "code",
   "execution_count": 34,
   "metadata": {},
   "outputs": [
    {
     "data": {
      "text/plain": [
       "Text(0, 0.5, 'conversion')"
      ]
     },
     "execution_count": 34,
     "metadata": {},
     "output_type": "execute_result"
    },
    {
     "data": {
      "image/png": "[encoded data removed]",
      "text/plain": [
       "<Figure size 432x288 with 1 Axes>"
      ]
     },
     "metadata": {
      "needs_background": "light"
     },
     "output_type": "display_data"
    }
   ],
   "source": [
    "fig = plt.figure()\n",
    "fig = data.groupby(['marital_status'])['conversion'].mean().plot()\n",
    "fig.set_title('relationship between marital_status and target')\n",
    "fig.set_ylabel('conversion')   # 1=married 2540 customers , 2=single 1100 customers, 0=divorced 480 customers\n"
   ]
  },
  {
   "cell_type": "markdown",
   "metadata": {},
   "source": [
    "### Divorced and single people are positive conversion for long-term deposited after tele marketing by bank"
   ]
  },
  {
   "cell_type": "code",
   "execution_count": 35,
   "metadata": {},
   "outputs": [
    {
     "data": {
      "text/plain": [
       "Text(0, 0.5, 'conversion')"
      ]
     },
     "execution_count": 35,
     "metadata": {},
     "output_type": "execute_result"
    },
    {
     "data": {
      "image/png": "[encoded data removed]",
      "text/plain": [
       "<Figure size 432x288 with 1 Axes>"
      ]
     },
     "metadata": {
      "needs_background": "light"
     },
     "output_type": "display_data"
    }
   ],
   "source": [
    "fig = plt.figure()\n",
    "fig = data.groupby(['education'])['conversion'].mean().plot()\n",
    "fig.set_title('relationship between education and conversion')\n",
    "fig.set_ylabel('conversion')  # (1=primary, 2=secondary, 3=tertiary)."
   ]
  },
  {
   "cell_type": "markdown",
   "metadata": {},
   "source": [
    "* clients with atleast tertiary education are intrested in long term deposits"
   ]
  },
  {
   "cell_type": "code",
   "execution_count": 36,
   "metadata": {},
   "outputs": [
    {
     "data": {
      "text/plain": [
       "Text(0, 0.5, 'conversion')"
      ]
     },
     "execution_count": 36,
     "metadata": {},
     "output_type": "execute_result"
    },
    {
     "data": {
      "image/png": "[encoded data removed]",
      "text/plain": [
       "<Figure size 432x288 with 1 Axes>"
      ]
     },
     "metadata": {
      "needs_background": "light"
     },
     "output_type": "display_data"
    }
   ],
   "source": [
    "fig = plt.figure()\n",
    "fig = data.groupby(['previous_contacts'])['conversion'].mean().plot()\n",
    "fig.set_title('relationship between previous contacts and conversion')\n",
    "fig.set_ylabel('conversion')"
   ]
  },
  {
   "cell_type": "markdown",
   "metadata": {},
   "source": [
    "* 14 Number of contacts performed before this campaign and for this client."
   ]
  },
  {
   "cell_type": "code",
   "execution_count": 37,
   "metadata": {},
   "outputs": [
    {
     "data": {
      "text/plain": [
       "Text(0, 0.5, 'conversion')"
      ]
     },
     "execution_count": 37,
     "metadata": {},
     "output_type": "execute_result"
    },
    {
     "data": {
      "image/png": "[encoded data removed]",
      "text/plain": [
       "<Figure size 432x288 with 1 Axes>"
      ]
     },
     "metadata": {
      "needs_background": "light"
     },
     "output_type": "display_data"
    }
   ],
   "source": [
    "fig = plt.figure()\n",
    "fig = data.groupby(['housing'])['conversion'].mean().plot()\n",
    "fig.set_title('relationship between housing and conversion')\n",
    "fig.set_ylabel('conversion')"
   ]
  },
  {
   "cell_type": "markdown",
   "metadata": {},
   "source": [
    "* clients with housing loan are not taking long term deposits i.e. having negative relation. Better make less marketing"
   ]
  },
  {
   "cell_type": "code",
   "execution_count": 38,
   "metadata": {},
   "outputs": [
    {
     "data": {
      "text/plain": [
       "Text(0, 0.5, 'conversion')"
      ]
     },
     "execution_count": 38,
     "metadata": {},
     "output_type": "execute_result"
    },
    {
     "data": {
      "image/png": "[encoded data removed]",
      "text/plain": [
       "<Figure size 432x288 with 1 Axes>"
      ]
     },
     "metadata": {
      "needs_background": "light"
     },
     "output_type": "display_data"
    }
   ],
   "source": [
    "fig = plt.figure()\n",
    "fig = data.groupby(['loan'])['conversion'].mean().plot()\n",
    "fig.set_title('relationship between personal loan and conversion')\n",
    "fig.set_ylabel('conversion')"
   ]
  },
  {
   "cell_type": "markdown",
   "metadata": {},
   "source": [
    "* clients with personal loans are also not good targets. -ve correlation"
   ]
  },
  {
   "cell_type": "code",
   "execution_count": 39,
   "metadata": {},
   "outputs": [
    {
     "data": {
      "text/plain": [
       "Text(0, 0.5, 'conversion')"
      ]
     },
     "execution_count": 39,
     "metadata": {},
     "output_type": "execute_result"
    },
    {
     "data": {
      "image/png": "[encoded data removed]",
      "text/plain": [
       "<Figure size 432x288 with 1 Axes>"
      ]
     },
     "metadata": {
      "needs_background": "light"
     },
     "output_type": "display_data"
    }
   ],
   "source": [
    "fig = plt.figure()\n",
    "fig = data.groupby(['campaing_contacts'])['conversion'].mean().plot()\n",
    "fig.set_title('relationship between campaing_contacts and conversion')\n",
    "fig.set_ylabel('conversion')"
   ]
  },
  {
   "cell_type": "markdown",
   "metadata": {},
   "source": [
    "* 25 Number of contacts performed during this campaign and for this client."
   ]
  },
  {
   "cell_type": "code",
   "execution_count": 40,
   "metadata": {},
   "outputs": [
    {
     "data": {
      "text/plain": [
       "Text(0, 0.5, 'conversion')"
      ]
     },
     "execution_count": 40,
     "metadata": {},
     "output_type": "execute_result"
    },
    {
     "data": {
      "image/png": "[encoded data removed]",
      "text/plain": [
       "<Figure size 432x288 with 1 Axes>"
      ]
     },
     "metadata": {
      "needs_background": "light"
     },
     "output_type": "display_data"
    }
   ],
   "source": [
    "fig = plt.figure()\n",
    "fig = data.groupby(['contact_type'])['conversion'].mean().plot()\n",
    "fig.set_title('relationship between contact_type and conversion')\n",
    "fig.set_ylabel('conversion')"
   ]
  },
  {
   "cell_type": "markdown",
   "metadata": {},
   "source": [
    "* more conversion rate when contacted over telephone over cellphone. Contact communication type (0=cellular,1=telephone)"
   ]
  },
  {
   "cell_type": "code",
   "execution_count": 41,
   "metadata": {},
   "outputs": [
    {
     "data": {
      "text/plain": [
       "Text(0, 0.5, 'conversion')"
      ]
     },
     "execution_count": 41,
     "metadata": {},
     "output_type": "execute_result"
    },
    {
     "data": {
      "image/png": "[encoded data removed]",
      "text/plain": [
       "<Figure size 432x288 with 1 Axes>"
      ]
     },
     "metadata": {
      "needs_background": "light"
     },
     "output_type": "display_data"
    }
   ],
   "source": [
    "fig = plt.figure()\n",
    "fig = data.groupby(['day'])['conversion'].mean().plot()\n",
    "fig.set_title('relationship between campaing_contacts and target')\n",
    "fig.set_ylabel('conversion')"
   ]
  },
  {
   "cell_type": "markdown",
   "metadata": {},
   "source": [
    "* its good idea to contact clients on 1,2,3,10 25th days of the month"
   ]
  },
  {
   "cell_type": "code",
   "execution_count": 42,
   "metadata": {},
   "outputs": [
    {
     "data": {
      "text/plain": [
       "Text(0, 0.5, 'conversion')"
      ]
     },
     "execution_count": 42,
     "metadata": {},
     "output_type": "execute_result"
    },
    {
     "data": {
      "image/png": "[encoded data removed]",
      "text/plain": [
       "<Figure size 432x288 with 1 Axes>"
      ]
     },
     "metadata": {
      "needs_background": "light"
     },
     "output_type": "display_data"
    }
   ],
   "source": [
    "fig = plt.figure()\n",
    "fig = data.groupby(['month'])['conversion'].mean().plot()\n",
    "fig.set_title('relationship between campaing_contacts and target')\n",
    "fig.set_ylabel('conversion')"
   ]
  },
  {
   "cell_type": "markdown",
   "metadata": {},
   "source": [
    "* most long term deposits are taken in March, October and December months of the year"
   ]
  },
  {
   "cell_type": "code",
   "execution_count": 43,
   "metadata": {},
   "outputs": [
    {
     "data": {
      "text/plain": [
       "Text(0, 0.5, 'conversion')"
      ]
     },
     "execution_count": 43,
     "metadata": {},
     "output_type": "execute_result"
    },
    {
     "data": {
      "image/png": "[encoded data removed]",
      "text/plain": [
       "<Figure size 432x288 with 1 Axes>"
      ]
     },
     "metadata": {
      "needs_background": "light"
     },
     "output_type": "display_data"
    }
   ],
   "source": [
    "fig = plt.figure()\n",
    "fig = data.groupby(['campaing_contacts'])['conversion'].mean().plot()\n",
    "fig.set_title('relationship between campaing_contacts and target')\n",
    "fig.set_ylabel('conversion')"
   ]
  },
  {
   "cell_type": "markdown",
   "metadata": {},
   "source": [
    "* Number of contacts performed during this campaign and for this client."
   ]
  },
  {
   "cell_type": "code",
   "execution_count": null,
   "metadata": {},
   "outputs": [],
   "source": []
  },
  {
   "cell_type": "code",
   "execution_count": 44,
   "metadata": {},
   "outputs": [
    {
     "data": {
      "image/png": "[encoded data removed]",
      "text/plain": [
       "<Figure size 1440x1440 with 16 Axes>"
      ]
     },
     "metadata": {
      "needs_background": "light"
     },
     "output_type": "display_data"
    }
   ],
   "source": [
    "data.hist(figsize=(20, 20))\n",
    "plt.tight_layout()# tight_layout() will adjust spacing between subplots to minimize the overlaps. let's make good plots\n",
    "plt.show()"
   ]
  },
  {
   "cell_type": "markdown",
   "metadata": {},
   "source": [
    "# Splitting the data and ML Model building"
   ]
  },
  {
   "cell_type": "code",
   "execution_count": 45,
   "metadata": {},
   "outputs": [
    {
     "name": "stdout",
     "output_type": "stream",
     "text": [
      "(4120, 13)\n",
      "The Shape of X_TRAIN is (2884, 13)\n",
      "The Shape of X_TEST is (1236, 13)\n",
      "The Shape of Y_TRAIN is (2884, 1)\n",
      "The Shape of Y_TEST is (1236, 1)\n"
     ]
    }
   ],
   "source": [
    "# Let's separate into train and test set\n",
    "# seperating target variable\n",
    "X=data.iloc[:,:13].values\n",
    "y=data['conversion'].values.reshape(-1,1)\n",
    "print(X.shape),(y.shape)\n",
    "from sklearn.model_selection import train_test_split\n",
    "\n",
    "X_train, X_test, y_train, y_test = train_test_split(X,y, test_size=0.3,\n",
    "                                                    random_state=0)\n",
    "print('The Shape of X_TRAIN is',X_train.shape)\n",
    "print('The Shape of X_TEST is',X_test.shape)\n",
    "print('The Shape of Y_TRAIN is',y_train.shape)\n",
    "print('The Shape of Y_TEST is',y_test.shape)"
   ]
  },
  {
   "cell_type": "code",
   "execution_count": 46,
   "metadata": {},
   "outputs": [],
   "source": [
    "# to build the models\n",
    "from sklearn.linear_model import LogisticRegression\n",
    "from sklearn.ensemble import AdaBoostClassifier\n",
    "from sklearn.ensemble import RandomForestClassifier\n",
    "import xgboost as xgb\n",
    "\n",
    "import warnings\n",
    "warnings.filterwarnings('ignore')"
   ]
  },
  {
   "cell_type": "code",
   "execution_count": 47,
   "metadata": {},
   "outputs": [
    {
     "name": "stdout",
     "output_type": "stream",
     "text": [
      "Logit train roc-auc: 0.6761737153751674\n",
      "Logit test roc-auc: 0.6269380020398434\n"
     ]
    }
   ],
   "source": [
    "from sklearn.linear_model import LogisticRegression\n",
    "from sklearn.metrics import roc_auc_score\n",
    "\n",
    "logit_model = LogisticRegression()\n",
    "logit_model.fit(X_train, y_train)\n",
    "\n",
    "pred = logit_model.predict_proba(X_train)\n",
    "print('Logit train roc-auc: {}'.format(roc_auc_score(y_train, pred[:,1])))\n",
    "pred = logit_model.predict_proba(X_test)\n",
    "print('Logit test roc-auc: {}'.format(roc_auc_score(y_test, pred[:,1])))"
   ]
  },
  {
   "cell_type": "code",
   "execution_count": 48,
   "metadata": {},
   "outputs": [
    {
     "name": "stdout",
     "output_type": "stream",
     "text": [
      "Adaboost train roc-auc: 0.7776622852847899\n",
      "Adaboost test roc-auc: 0.6939510799703077\n"
     ]
    }
   ],
   "source": [
    "ada_model = AdaBoostClassifier()\n",
    "ada_model.fit(X_train, y_train)\n",
    "\n",
    "pred = ada_model.predict_proba(X_train)\n",
    "print('Adaboost train roc-auc: {}'.format(roc_auc_score(y_train, pred[:,1])))\n",
    "pred = ada_model.predict_proba(X_test)\n",
    "print('Adaboost test roc-auc: {}'.format(roc_auc_score(y_test, pred[:,1])))"
   ]
  },
  {
   "cell_type": "code",
   "execution_count": 49,
   "metadata": {},
   "outputs": [
    {
     "name": "stdout",
     "output_type": "stream",
     "text": [
      "RF train roc-auc: 0.9997280732307956\n",
      "RF test roc-auc: 0.627396665037206\n"
     ]
    }
   ],
   "source": [
    "rf_model = RandomForestClassifier()\n",
    "rf_model.fit(X_train, y_train)\n",
    "\n",
    "pred = rf_model.predict_proba(X_train)\n",
    "print('RF train roc-auc: {}'.format(roc_auc_score(y_train, pred[:,1])))\n",
    "pred = rf_model.predict_proba(X_test)\n",
    "print('RF test roc-auc: {}'.format(roc_auc_score(y_test, pred[:,1])))"
   ]
  },
  {
   "cell_type": "code",
   "execution_count": 50,
   "metadata": {},
   "outputs": [
    {
     "name": "stdout",
     "output_type": "stream",
     "text": [
      "xgb train roc-auc: 0.8583169871736114\n",
      "xgb test roc-auc: 0.6857011810572183\n"
     ]
    }
   ],
   "source": [
    "xgb_model = xgb.XGBClassifier()\n",
    "\n",
    "eval_set = [(X_test, y_test)]\n",
    "xgb_model.fit(X_train, y_train, eval_metric=\"auc\", eval_set=eval_set, verbose=False)\n",
    "\n",
    "pred = xgb_model.predict_proba(X_train)\n",
    "print('xgb train roc-auc: {}'.format(roc_auc_score(y_train, pred[:,1])))\n",
    "pred = xgb_model.predict_proba(X_test)\n",
    "print('xgb test roc-auc: {}'.format(roc_auc_score(y_test, pred[:,1])))"
   ]
  },
  {
   "cell_type": "markdown",
   "metadata": {},
   "source": [
    "# Balancing the Imbalance dataset with over/up sampling"
   ]
  },
  {
   "cell_type": "code",
   "execution_count": 55,
   "metadata": {},
   "outputs": [
    {
     "name": "stdout",
     "output_type": "stream",
     "text": [
      "negative_conversion: 3648\n",
      "postive_conversion: 472\n",
      "Proportion: 7.73 : 1\n"
     ]
    },
    {
     "data": {
      "image/png": "[encoded data removed]",
      "text/plain": [
       "<Figure size 432x288 with 1 Axes>"
      ]
     },
     "metadata": {
      "needs_background": "light"
     },
     "output_type": "display_data"
    }
   ],
   "source": [
    "# checking the balance of target variable\n",
    "target_count = data.conversion.value_counts()\n",
    "print('negative_conversion:', target_count[0])\n",
    "print('postive_conversion:', target_count[1])\n",
    "print('Proportion:', round(target_count[0] / target_count[1], 2), ': 1')\n",
    "target_count.plot(kind='bar', title='Count (target)');"
   ]
  },
  {
   "cell_type": "code",
   "execution_count": 56,
   "metadata": {},
   "outputs": [
    {
     "name": "stdout",
     "output_type": "stream",
     "text": [
      "(3648, 14) (472, 14)\n"
     ]
    }
   ],
   "source": [
    "## Get the left Bank and Continue Banking dataset \n",
    "positive_conversion = data[data['conversion']==1]\n",
    "negative_conversion = data[data['conversion']==0]\n",
    "print(negative_conversion.shape, positive_conversion.shape)"
   ]
  },
  {
   "cell_type": "code",
   "execution_count": 57,
   "metadata": {},
   "outputs": [],
   "source": [
    "from imblearn import under_sampling \n",
    "from imblearn import over_sampling\n",
    "from imblearn.combine import SMOTETomek\n",
    "from imblearn.under_sampling import NearMiss"
   ]
  },
  {
   "cell_type": "code",
   "execution_count": 58,
   "metadata": {},
   "outputs": [
    {
     "data": {
      "text/plain": [
       "((6994, 13), (6994,))"
      ]
     },
     "execution_count": 58,
     "metadata": {},
     "output_type": "execute_result"
    }
   ],
   "source": [
    "# Implementing Oversampling for Handling Imbalanced \n",
    "smk = SMOTETomek(random_state=42)\n",
    "X_new,y_new=smk.fit_sample(X,y)\n",
    "X_new.shape,y_new.shape"
   ]
  },
  {
   "cell_type": "code",
   "execution_count": 59,
   "metadata": {},
   "outputs": [
    {
     "name": "stdout",
     "output_type": "stream",
     "text": [
      "Up_sampled dataset shape Counter({0: 3497, 1: 3497})\n"
     ]
    }
   ],
   "source": [
    "from collections import Counter\n",
    "#print('Original dataset shape {}'.format(Counter(y)))\n",
    "print('Up_sampled dataset shape {}'.format(Counter(y_new)))"
   ]
  },
  {
   "cell_type": "code",
   "execution_count": 60,
   "metadata": {},
   "outputs": [],
   "source": [
    "## RandomOverSampler to handle imbalanced data\n",
    "from imblearn.over_sampling import RandomOverSampler\n",
    "ups =  RandomOverSampler(ratio=0.5)"
   ]
  },
  {
   "cell_type": "code",
   "execution_count": 61,
   "metadata": {},
   "outputs": [
    {
     "data": {
      "text/plain": [
       "((5472, 13), (5472,))"
      ]
     },
     "execution_count": 61,
     "metadata": {},
     "output_type": "execute_result"
    }
   ],
   "source": [
    "X_train_new, y_train_new = ups.fit_sample(X, y)\n",
    "X_train_new.shape,y_train_new.shape"
   ]
  },
  {
   "cell_type": "code",
   "execution_count": 62,
   "metadata": {},
   "outputs": [
    {
     "name": "stdout",
     "output_type": "stream",
     "text": [
      "up_sampled dataset shape Counter({0: 3648, 1: 1824})\n"
     ]
    }
   ],
   "source": [
    "#print('Original dataset shape {}'.format(Counter(y)))\n",
    "print('up_sampled dataset shape {}'.format(Counter(y_train_new)))"
   ]
  },
  {
   "cell_type": "code",
   "execution_count": 63,
   "metadata": {},
   "outputs": [
    {
     "name": "stdout",
     "output_type": "stream",
     "text": [
      "The Shape of X_TRAIN is (3830, 13)\n",
      "The Shape of X_TEST is (1642, 13)\n",
      "The Shape of Y_TRAIN is (3830,)\n",
      "The Shape of Y_TEST is (1642,)\n"
     ]
    }
   ],
   "source": [
    "X_train_new,X_test_new,y_train_new,y_test_new=train_test_split(X_train_new, y_train_new, test_size=0.3, random_state=5)\n",
    "print('The Shape of X_TRAIN is',X_train_new.shape)\n",
    "print('The Shape of X_TEST is',X_test_new.shape)\n",
    "print('The Shape of Y_TRAIN is',y_train_new.shape)\n",
    "print('The Shape of Y_TEST is',y_test_new.shape)"
   ]
  },
  {
   "cell_type": "code",
   "execution_count": 64,
   "metadata": {},
   "outputs": [
    {
     "name": "stdout",
     "output_type": "stream",
     "text": [
      "xgb up sample train data roc-auc: 0.8559588812123915\n",
      "xgb up sample test data roc-auc: 0.8165330426031533\n"
     ]
    }
   ],
   "source": [
    "xgb_model_ups = xgb.XGBClassifier()\n",
    "\n",
    "eval_set = [(X_test_new, y_test_new)]\n",
    "xgb_model_ups.fit(X_train_new, y_train_new, eval_metric=\"auc\", eval_set=eval_set, verbose=False)\n",
    "\n",
    "pred_ups = xgb_model_ups.predict_proba(X_train_new)\n",
    "print('xgb up sample train data roc-auc: {}'.format(roc_auc_score(y_train_new, pred_ups[:,1])))\n",
    "pred_ups = xgb_model_ups.predict_proba(X_test_new)\n",
    "print('xgb up sample test data roc-auc: {}'.format(roc_auc_score(y_test_new, pred_ups[:,1])))"
   ]
  },
  {
   "cell_type": "code",
   "execution_count": 113,
   "metadata": {},
   "outputs": [
    {
     "data": {
      "image/png": "[encoded data removed]",
      "text/plain": [
       "<Figure size 432x288 with 1 Axes>"
      ]
     },
     "metadata": {
      "needs_background": "light"
     },
     "output_type": "display_data"
    }
   ],
   "source": [
    "from xgboost import plot_importance\n",
    "import matplotlib.pyplot as plt\n",
    "\n",
    "# plot feature importance\n",
    "plot_importance(xgb_model_ups)\n",
    "plt.show()  # balance, month, age, day & previous_contacts are top 5 important features"
   ]
  },
  {
   "cell_type": "code",
   "execution_count": 119,
   "metadata": {},
   "outputs": [
    {
     "name": "stdout",
     "output_type": "stream",
     "text": [
      "Index(['age', 'job', 'marital_status', 'education', 'default', 'balance',\n",
      "       'housing', 'loan', 'contact_type', 'day', 'month', 'campaing_contacts',\n",
      "       'previous_contacts', 'conversion'],\n",
      "      dtype='object')\n"
     ]
    }
   ],
   "source": [
    "print(data.columns)"
   ]
  },
  {
   "cell_type": "markdown",
   "metadata": {},
   "source": [
    "# Compare classification algorithms"
   ]
  },
  {
   "cell_type": "code",
   "execution_count": 80,
   "metadata": {},
   "outputs": [],
   "source": [
    "from sklearn.linear_model import LogisticRegression\n",
    "from sklearn.neighbors import KNeighborsClassifier\n",
    "from sklearn.tree import DecisionTreeClassifier\n",
    "from sklearn.naive_bayes import GaussianNB\n",
    "from xgboost.sklearn import XGBClassifier\n",
    "from sklearn.model_selection import KFold\n",
    "from sklearn.model_selection import cross_val_score\n"
   ]
  },
  {
   "cell_type": "code",
   "execution_count": 83,
   "metadata": {},
   "outputs": [],
   "source": [
    "models = []\n",
    "models.append(('LR', LogisticRegression()))\n",
    "models.append(('KNN', KNeighborsClassifier()))\n",
    "models.append(('DTree', DecisionTreeClassifier()))\n",
    "models.append(('NB', GaussianNB()))\n",
    "models.append(('ADA', AdaBoostClassifier()))\n",
    "models.append(('RF', RandomForestClassifier()))\n",
    "models.append(('XGB', XGBClassifier()))"
   ]
  },
  {
   "cell_type": "code",
   "execution_count": 84,
   "metadata": {},
   "outputs": [
    {
     "name": "stdout",
     "output_type": "stream",
     "text": [
      "LR: 0.694517 (0.019434)\n",
      "KNN: 0.712010 (0.017864)\n",
      "DTree: 0.881462 (0.023301)\n",
      "NB: 0.677023 (0.025769)\n",
      "ADA: 0.727154 (0.012426)\n",
      "RF: 0.932115 (0.009558)\n",
      "XGB: 0.765274 (0.013387)\n"
     ]
    }
   ],
   "source": [
    "results_c = []\n",
    "names_c = []\n",
    "\n",
    "for name, model in models:\n",
    "    # define how to split off validation data ('kfold' how many folds)\n",
    "    kfold = KFold(n_splits=10, random_state='seed')    \n",
    "    # train the model\n",
    "    cv_results = cross_val_score(model, X_train_new, y_train_new, cv=kfold, scoring='accuracy')    \n",
    "    results_c.append(cv_results)\n",
    "    names_c.append(name)\n",
    "    msg = \"%s: %f (%f)\" % (name, cv_results.mean(), cv_results.std())\n",
    "    print(msg)"
   ]
  },
  {
   "cell_type": "code",
   "execution_count": 85,
   "metadata": {},
   "outputs": [
    {
     "data": {
      "image/png": "[encoded data removed]",
      "text/plain": [
       "<Figure size 432x288 with 1 Axes>"
      ]
     },
     "metadata": {
      "needs_background": "light"
     },
     "output_type": "display_data"
    }
   ],
   "source": [
    "fig = plt.figure()\n",
    "fig.suptitle('Perfomance of Classification Algorithms')\n",
    "ax = fig.add_subplot(111)\n",
    "plt.boxplot(results_c)\n",
    "ax.set_xticklabels(names_c)\n",
    "plt.show()"
   ]
  },
  {
   "cell_type": "markdown",
   "metadata": {},
   "source": [
    "### Random Forest Classifer is the best performing model.\n",
    "* Among all algorithms, RF achieved an accuracy of about 95%, suggesting a high level of strength of this model to classify the customer response given all the defined customer features."
   ]
  },
  {
   "cell_type": "code",
   "execution_count": 87,
   "metadata": {},
   "outputs": [],
   "source": [
    "#Create a Gaussian Classifier\n",
    "clf=RandomForestClassifier(n_estimators=100)\n",
    "\n",
    "#Train the model using the training sets y_pred=clf.predict(X_test)\n",
    "clf.fit(X_train_new,y_train_new)\n",
    "\n",
    "y_pred_new=clf.predic(X_test_new)"
   ]
  },
  {
   "cell_type": "code",
   "execution_count": 104,
   "metadata": {},
   "outputs": [
    {
     "name": "stdout",
     "output_type": "stream",
     "text": [
      "RF up sampled test Accuracy: 0.9658952496954933\n"
     ]
    }
   ],
   "source": [
    "#Import scikit-learn metrics module for accuracy calculation\n",
    "from sklearn import metrics\n",
    "# Model Accuracy, how often is the classifier correct?\n",
    "\n",
    "print(\"RF up sampled test Accuracy:\", metrics.accuracy_score(y_test_new, y_pred_new))\n",
    "\n"
   ]
  },
  {
   "cell_type": "markdown",
   "metadata": {},
   "source": [
    "# Important observations"
   ]
  },
  {
   "cell_type": "markdown",
   "metadata": {},
   "source": [
    "* Bank balance, month, age, day & previous_contacts are top 5 important features\n",
    "* Good targets for bank are students(parents invest in students) or retired people for long term deposits\n",
    "* clients < 30 or age > 60 are good targets\n",
    "* tele-marketing can increased in months of March, Oct, December for investments\n",
    "* Bank can reduce the tele marketing for clients who are having house loan and personal loan "
   ]
  },
  {
   "cell_type": "code",
   "execution_count": null,
   "metadata": {},
   "outputs": [],
   "source": []
  },
  {
   "cell_type": "code",
   "execution_count": null,
   "metadata": {},
   "outputs": [],
   "source": []
  },
  {
   "cell_type": "code",
   "execution_count": null,
   "metadata": {},
   "outputs": [],
   "source": []
  },
  {
   "cell_type": "code",
   "execution_count": null,
   "metadata": {},
   "outputs": [],
   "source": []
  },
  {
   "cell_type": "code",
   "execution_count": null,
   "metadata": {},
   "outputs": [],
   "source": []
  },
  {
   "cell_type": "code",
   "execution_count": null,
   "metadata": {},
   "outputs": [],
   "source": []
  }
 ],
 "metadata": {
  "kernelspec": {
   "display_name": "Python 3",
   "language": "python",
   "name": "python3"
  },
  "language_info": {
   "codemirror_mode": {
    "name": "ipython",
    "version": 3
   },
   "file_extension": ".py",
   "mimetype": "text/x-python",
   "name": "python",
   "nbconvert_exporter": "python",
   "pygments_lexer": "ipython3",
   "version": "3.7.3"
  }
 },
 "nbformat": 4,
 "nbformat_minor": 2
}
